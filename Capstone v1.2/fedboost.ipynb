{
 "cells": [
  {
   "cell_type": "code",
   "execution_count": 1,
   "metadata": {},
   "outputs": [],
   "source": [
    "import numpy as np\n",
    "import pandas as pd\n",
    "from sklearn.datasets import make_classification\n",
    "import xgboost as xgb\n",
    "from sklearn.model_selection import train_test_split\n",
    "from sklearn.metrics import accuracy_score, f1_score, precision_score, recall_score, roc_auc_score\n",
    "import matplotlib.pyplot as plt\n",
    "from customxgboost import XGBoostClassifier, XGBoostTree\n",
    "from fedXGB import Client, FedXGBoost\n",
    "from customxgboost import XGBoostClassifier as myxgb\n"
   ]
  },
  {
   "cell_type": "code",
   "execution_count": 2,
   "metadata": {},
   "outputs": [],
   "source": [
    "# Generate dummy data\n",
    "def create_dummy_data(n_samples = 15000, n_features = 10, n_informative = 8, n_redundant = 0, random_state = 42):\n",
    "\n",
    "    # Create the dataset\n",
    "    X, y = make_classification(\n",
    "        n_samples=n_samples,\n",
    "        n_features=n_features,\n",
    "        n_informative=n_informative,\n",
    "        n_redundant=n_redundant,\n",
    "        n_classes=2,\n",
    "        random_state=random_state\n",
    "    )\n",
    "\n",
    "    # Convert to DataFrame for convenience\n",
    "    df = pd.DataFrame(X, columns=[f\"feature_{i}\" for i in range(n_features)])\n",
    "    df['label'] = y\n",
    "\n",
    "    return df"
   ]
  },
  {
   "cell_type": "code",
   "execution_count": 3,
   "metadata": {},
   "outputs": [],
   "source": [
    "data = create_dummy_data()"
   ]
  },
  {
   "cell_type": "code",
   "execution_count": 4,
   "metadata": {},
   "outputs": [
    {
     "data": {
      "text/html": [
       "<div>\n",
       "<style scoped>\n",
       "    .dataframe tbody tr th:only-of-type {\n",
       "        vertical-align: middle;\n",
       "    }\n",
       "\n",
       "    .dataframe tbody tr th {\n",
       "        vertical-align: top;\n",
       "    }\n",
       "\n",
       "    .dataframe thead th {\n",
       "        text-align: right;\n",
       "    }\n",
       "</style>\n",
       "<table border=\"1\" class=\"dataframe\">\n",
       "  <thead>\n",
       "    <tr style=\"text-align: right;\">\n",
       "      <th></th>\n",
       "      <th>feature_0</th>\n",
       "      <th>feature_1</th>\n",
       "      <th>feature_2</th>\n",
       "      <th>feature_3</th>\n",
       "      <th>feature_4</th>\n",
       "      <th>feature_5</th>\n",
       "      <th>feature_6</th>\n",
       "      <th>feature_7</th>\n",
       "      <th>feature_8</th>\n",
       "      <th>feature_9</th>\n",
       "      <th>label</th>\n",
       "    </tr>\n",
       "  </thead>\n",
       "  <tbody>\n",
       "    <tr>\n",
       "      <th>0</th>\n",
       "      <td>-0.720305</td>\n",
       "      <td>-1.237531</td>\n",
       "      <td>-0.454258</td>\n",
       "      <td>1.571461</td>\n",
       "      <td>0.700770</td>\n",
       "      <td>1.982791</td>\n",
       "      <td>-3.120386</td>\n",
       "      <td>0.826585</td>\n",
       "      <td>-0.755221</td>\n",
       "      <td>-0.961137</td>\n",
       "      <td>0</td>\n",
       "    </tr>\n",
       "    <tr>\n",
       "      <th>1</th>\n",
       "      <td>0.523927</td>\n",
       "      <td>-0.300823</td>\n",
       "      <td>1.193739</td>\n",
       "      <td>1.546690</td>\n",
       "      <td>0.279284</td>\n",
       "      <td>-0.160006</td>\n",
       "      <td>1.431960</td>\n",
       "      <td>-1.205824</td>\n",
       "      <td>-1.701729</td>\n",
       "      <td>0.483841</td>\n",
       "      <td>0</td>\n",
       "    </tr>\n",
       "    <tr>\n",
       "      <th>2</th>\n",
       "      <td>-0.667393</td>\n",
       "      <td>-0.504174</td>\n",
       "      <td>-1.033114</td>\n",
       "      <td>3.192187</td>\n",
       "      <td>-2.412546</td>\n",
       "      <td>-1.797621</td>\n",
       "      <td>-1.909689</td>\n",
       "      <td>1.667438</td>\n",
       "      <td>-3.983311</td>\n",
       "      <td>0.133892</td>\n",
       "      <td>1</td>\n",
       "    </tr>\n",
       "    <tr>\n",
       "      <th>3</th>\n",
       "      <td>0.576402</td>\n",
       "      <td>-4.044822</td>\n",
       "      <td>1.529363</td>\n",
       "      <td>-0.303941</td>\n",
       "      <td>0.903713</td>\n",
       "      <td>0.271204</td>\n",
       "      <td>-0.175285</td>\n",
       "      <td>-0.767430</td>\n",
       "      <td>-2.677140</td>\n",
       "      <td>-0.520583</td>\n",
       "      <td>0</td>\n",
       "    </tr>\n",
       "    <tr>\n",
       "      <th>4</th>\n",
       "      <td>0.494973</td>\n",
       "      <td>-2.861203</td>\n",
       "      <td>1.220322</td>\n",
       "      <td>-0.286901</td>\n",
       "      <td>0.257327</td>\n",
       "      <td>-3.092110</td>\n",
       "      <td>-1.689975</td>\n",
       "      <td>0.244554</td>\n",
       "      <td>0.292380</td>\n",
       "      <td>0.751493</td>\n",
       "      <td>0</td>\n",
       "    </tr>\n",
       "    <tr>\n",
       "      <th>...</th>\n",
       "      <td>...</td>\n",
       "      <td>...</td>\n",
       "      <td>...</td>\n",
       "      <td>...</td>\n",
       "      <td>...</td>\n",
       "      <td>...</td>\n",
       "      <td>...</td>\n",
       "      <td>...</td>\n",
       "      <td>...</td>\n",
       "      <td>...</td>\n",
       "      <td>...</td>\n",
       "    </tr>\n",
       "    <tr>\n",
       "      <th>14995</th>\n",
       "      <td>-0.089057</td>\n",
       "      <td>-0.291074</td>\n",
       "      <td>1.746100</td>\n",
       "      <td>0.444515</td>\n",
       "      <td>0.339796</td>\n",
       "      <td>-0.908918</td>\n",
       "      <td>-1.367856</td>\n",
       "      <td>-0.498903</td>\n",
       "      <td>-1.691124</td>\n",
       "      <td>0.152264</td>\n",
       "      <td>1</td>\n",
       "    </tr>\n",
       "    <tr>\n",
       "      <th>14996</th>\n",
       "      <td>-0.225801</td>\n",
       "      <td>-2.265174</td>\n",
       "      <td>2.827270</td>\n",
       "      <td>-1.201393</td>\n",
       "      <td>0.655284</td>\n",
       "      <td>-2.561458</td>\n",
       "      <td>-0.706593</td>\n",
       "      <td>-0.032691</td>\n",
       "      <td>-0.142616</td>\n",
       "      <td>0.834814</td>\n",
       "      <td>0</td>\n",
       "    </tr>\n",
       "    <tr>\n",
       "      <th>14997</th>\n",
       "      <td>1.104642</td>\n",
       "      <td>1.304908</td>\n",
       "      <td>0.419491</td>\n",
       "      <td>1.263706</td>\n",
       "      <td>-2.090225</td>\n",
       "      <td>0.578868</td>\n",
       "      <td>0.387278</td>\n",
       "      <td>1.491463</td>\n",
       "      <td>-1.073523</td>\n",
       "      <td>-0.074165</td>\n",
       "      <td>0</td>\n",
       "    </tr>\n",
       "    <tr>\n",
       "      <th>14998</th>\n",
       "      <td>-0.345116</td>\n",
       "      <td>2.334344</td>\n",
       "      <td>1.320172</td>\n",
       "      <td>1.715078</td>\n",
       "      <td>0.059883</td>\n",
       "      <td>1.218548</td>\n",
       "      <td>-4.212452</td>\n",
       "      <td>1.363364</td>\n",
       "      <td>-3.089374</td>\n",
       "      <td>0.363273</td>\n",
       "      <td>1</td>\n",
       "    </tr>\n",
       "    <tr>\n",
       "      <th>14999</th>\n",
       "      <td>-0.535546</td>\n",
       "      <td>1.233903</td>\n",
       "      <td>1.621085</td>\n",
       "      <td>-1.775722</td>\n",
       "      <td>-0.640904</td>\n",
       "      <td>-0.211008</td>\n",
       "      <td>4.227407</td>\n",
       "      <td>0.225291</td>\n",
       "      <td>-3.425125</td>\n",
       "      <td>0.050149</td>\n",
       "      <td>0</td>\n",
       "    </tr>\n",
       "  </tbody>\n",
       "</table>\n",
       "<p>15000 rows × 11 columns</p>\n",
       "</div>"
      ],
      "text/plain": [
       "       feature_0  feature_1  feature_2  feature_3  feature_4  feature_5  \\\n",
       "0      -0.720305  -1.237531  -0.454258   1.571461   0.700770   1.982791   \n",
       "1       0.523927  -0.300823   1.193739   1.546690   0.279284  -0.160006   \n",
       "2      -0.667393  -0.504174  -1.033114   3.192187  -2.412546  -1.797621   \n",
       "3       0.576402  -4.044822   1.529363  -0.303941   0.903713   0.271204   \n",
       "4       0.494973  -2.861203   1.220322  -0.286901   0.257327  -3.092110   \n",
       "...          ...        ...        ...        ...        ...        ...   \n",
       "14995  -0.089057  -0.291074   1.746100   0.444515   0.339796  -0.908918   \n",
       "14996  -0.225801  -2.265174   2.827270  -1.201393   0.655284  -2.561458   \n",
       "14997   1.104642   1.304908   0.419491   1.263706  -2.090225   0.578868   \n",
       "14998  -0.345116   2.334344   1.320172   1.715078   0.059883   1.218548   \n",
       "14999  -0.535546   1.233903   1.621085  -1.775722  -0.640904  -0.211008   \n",
       "\n",
       "       feature_6  feature_7  feature_8  feature_9  label  \n",
       "0      -3.120386   0.826585  -0.755221  -0.961137      0  \n",
       "1       1.431960  -1.205824  -1.701729   0.483841      0  \n",
       "2      -1.909689   1.667438  -3.983311   0.133892      1  \n",
       "3      -0.175285  -0.767430  -2.677140  -0.520583      0  \n",
       "4      -1.689975   0.244554   0.292380   0.751493      0  \n",
       "...          ...        ...        ...        ...    ...  \n",
       "14995  -1.367856  -0.498903  -1.691124   0.152264      1  \n",
       "14996  -0.706593  -0.032691  -0.142616   0.834814      0  \n",
       "14997   0.387278   1.491463  -1.073523  -0.074165      0  \n",
       "14998  -4.212452   1.363364  -3.089374   0.363273      1  \n",
       "14999   4.227407   0.225291  -3.425125   0.050149      0  \n",
       "\n",
       "[15000 rows x 11 columns]"
      ]
     },
     "execution_count": 4,
     "metadata": {},
     "output_type": "execute_result"
    }
   ],
   "source": [
    "data"
   ]
  },
  {
   "cell_type": "code",
   "execution_count": 5,
   "metadata": {},
   "outputs": [
    {
     "name": "stdout",
     "output_type": "stream",
     "text": [
      "Accuracy: 94.18%\n"
     ]
    }
   ],
   "source": [
    "# split data into train and test sets\n",
    "X = data.drop('label', axis=1)\n",
    "y = data['label']\n",
    "X_train, X_test, y_train, y_test = train_test_split(X, y, test_size=0.33, random_state=42)\n",
    "\n",
    "# fit model no training data\n",
    "model = xgb.XGBClassifier()\n",
    "model.fit(X_train, y_train)\n",
    "\n",
    "# make predictions for test data\n",
    "y_pred = model.predict(X_test)\n",
    "predictions = [round(value) for value in y_pred]\n",
    "\n",
    "# evaluate predictions\n",
    "accuracy = accuracy_score(y_test, predictions)\n",
    "print(\"Accuracy: %.2f%%\" % (accuracy * 100.0))"
   ]
  },
  {
   "cell_type": "code",
   "execution_count": 6,
   "metadata": {},
   "outputs": [],
   "source": [
    "\n",
    "\n",
    "# my_model = myxgb()\n",
    "# my_model.fit(X_train, y_train, boosting_rounds=20, depth=5, learning_rate=0.3)\n",
    "\n",
    "# # make predictions for test data\n",
    "# y_pred = my_model.predict(X_test)\n",
    "# predictions = [round(value) for value in y_pred]\n",
    "\n",
    "# # evaluate predictions\n",
    "# accuracy = accuracy_score(y_test, predictions)\n",
    "# print(\"Accuracy: %.2f%%\" % (accuracy * 100.0))\n"
   ]
  },
  {
   "cell_type": "code",
   "execution_count": 7,
   "metadata": {},
   "outputs": [],
   "source": [
    "# # accuracy on training data\n",
    "# y_pred = my_model.predict(X_train)\n",
    "# predictions = [round(value) for value in y_pred]\n",
    "# accuracy = accuracy_score(y_train, predictions)\n",
    "# print(\"Accuracy: %.2f%%\" % (accuracy * 100.0))"
   ]
  },
  {
   "cell_type": "code",
   "execution_count": 8,
   "metadata": {},
   "outputs": [
    {
     "name": "stdout",
     "output_type": "stream",
     "text": [
      "Optimized: Getting regions\n",
      "Training Complete\n",
      "Accuracy: 79.43%\n"
     ]
    }
   ],
   "source": [
    "my_model = myxgb(method='hist')\n",
    "# my_model.max_bins = 1000\n",
    "my_model.fit(X_train, y_train, boosting_rounds=20, depth=5, learning_rate=0.3)\n",
    "\n",
    "# make predictions for test data\n",
    "y_pred = my_model.predict(X_test)\n",
    "predictions = [round(value) for value in y_pred]\n",
    "\n",
    "# evaluate predictions\n",
    "accuracy = accuracy_score(y_test, predictions)\n",
    "print(\"Accuracy: %.2f%%\" % (accuracy * 100.0))"
   ]
  },
  {
   "cell_type": "code",
   "execution_count": 9,
   "metadata": {},
   "outputs": [
    {
     "name": "stdout",
     "output_type": "stream",
     "text": [
      "Accuracy: 83.15%\n"
     ]
    }
   ],
   "source": [
    "# accuracy on training data\n",
    "y_pred = my_model.predict(X_train)\n",
    "predictions = [round(value) for value in y_pred]\n",
    "accuracy = accuracy_score(y_train, predictions)\n",
    "print(\"Accuracy: %.2f%%\" % (accuracy * 100.0))"
   ]
  },
  {
   "cell_type": "code",
   "execution_count": 7,
   "metadata": {},
   "outputs": [
    {
     "name": "stdout",
     "output_type": "stream",
     "text": [
      "Initializing Clients\n",
      "Optimized: Getting regions\n",
      "Optimized: Getting regions\n",
      "Optimized: Getting regions\n"
     ]
    }
   ],
   "source": [
    "# max_bins = 100000 # each client must have the same bin size\n",
    "\n",
    "max_bins = 10240\n",
    "# create 3 clients\n",
    "client1 = Client(X_train[:3000], y_train[:3000], max_bins=max_bins, cliend_id=1)\n",
    "client2 = Client(X_train[3000:6000], y_train[3000:6000], max_bins=max_bins, cliend_id=2)\n",
    "client3 = Client(X_train[6000:], y_train[6000:], max_bins=max_bins, cliend_id=3)\n",
    "\n",
    "# create a federated model with the 3 clients\n",
    "fed_model = FedXGBoost()\n",
    "\n",
    "fed_model.fit([client1, client2, client3], max_bins=max_bins)"
   ]
  },
  {
   "cell_type": "code",
   "execution_count": 8,
   "metadata": {},
   "outputs": [
    {
     "name": "stdout",
     "output_type": "stream",
     "text": [
      "Boosting round 1 done.\n",
      "Boosting round 2 done.\n",
      "Boosting round 3 done.\n",
      "Boosting round 4 done.\n",
      "Boosting round 5 done.\n",
      "Boosting round 6 done.\n",
      "Boosting round 7 done.\n",
      "Boosting round 8 done.\n",
      "Boosting round 9 done.\n",
      "Boosting round 10 done.\n",
      "Boosting round 11 done.\n",
      "Boosting round 12 done.\n",
      "Boosting round 13 done.\n",
      "Boosting round 14 done.\n",
      "Boosting round 15 done.\n",
      "Boosting round 16 done.\n",
      "Boosting round 17 done.\n",
      "Boosting round 18 done.\n",
      "Boosting round 19 done.\n",
      "Boosting round 20 done.\n",
      "Boosting round 21 done.\n",
      "Boosting round 22 done.\n",
      "Boosting round 23 done.\n",
      "Boosting round 24 done.\n",
      "Boosting round 25 done.\n",
      "Training Complete\n"
     ]
    }
   ],
   "source": [
    "# train the model\n",
    "fed_model.train(subsample_cols=0.8, boosting_rounds=25, depth=10, learning_rate=0.1)"
   ]
  },
  {
   "cell_type": "code",
   "execution_count": 12,
   "metadata": {},
   "outputs": [
    {
     "name": "stdout",
     "output_type": "stream",
     "text": [
      "Boosting round 1 done.\n",
      "Boosting round 2 done.\n",
      "Boosting round 3 done.\n",
      "Boosting round 4 done.\n",
      "Boosting round 5 done.\n",
      "Boosting round 6 done.\n",
      "Boosting round 7 done.\n",
      "Boosting round 8 done.\n",
      "Boosting round 9 done.\n",
      "Boosting round 10 done.\n",
      "Boosting round 11 done.\n",
      "Boosting round 12 done.\n",
      "Boosting round 13 done.\n",
      "Boosting round 14 done.\n",
      "Boosting round 15 done.\n",
      "Boosting round 16 done.\n",
      "Boosting round 17 done.\n",
      "Boosting round 18 done.\n",
      "Boosting round 19 done.\n",
      "Boosting round 20 done.\n",
      "Boosting round 21 done.\n",
      "Boosting round 22 done.\n",
      "Boosting round 23 done.\n",
      "Boosting round 24 done.\n",
      "Boosting round 25 done.\n",
      "Training Complete\n"
     ]
    }
   ],
   "source": [
    "#continue training\n",
    "fed_model.train(subsample_cols=0.8, boosting_rounds=25, depth=10, learning_rate=0.1, gamma=0, lambda_=1)"
   ]
  },
  {
   "cell_type": "code",
   "execution_count": 15,
   "metadata": {},
   "outputs": [
    {
     "name": "stdout",
     "output_type": "stream",
     "text": [
      "Boosting round 1 done.\n",
      "Boosting round 2 done.\n",
      "Boosting round 3 done.\n",
      "Boosting round 4 done.\n",
      "Boosting round 5 done.\n",
      "Boosting round 6 done.\n",
      "Boosting round 7 done.\n",
      "Boosting round 8 done.\n",
      "Boosting round 9 done.\n",
      "Boosting round 10 done.\n",
      "Boosting round 11 done.\n",
      "Boosting round 12 done.\n",
      "Boosting round 13 done.\n",
      "Boosting round 14 done.\n",
      "Boosting round 15 done.\n",
      "Boosting round 16 done.\n",
      "Boosting round 17 done.\n",
      "Boosting round 18 done.\n",
      "Boosting round 19 done.\n",
      "Boosting round 20 done.\n",
      "Boosting round 21 done.\n",
      "Boosting round 22 done.\n",
      "Boosting round 23 done.\n",
      "Boosting round 24 done.\n",
      "Boosting round 25 done.\n",
      "Training Complete\n"
     ]
    }
   ],
   "source": [
    "fed_model.train(subsample_cols=0.9, boosting_rounds=25, depth=15, learning_rate=0.1, gamma=0, lambda_=1)"
   ]
  },
  {
   "cell_type": "code",
   "execution_count": 9,
   "metadata": {},
   "outputs": [
    {
     "name": "stdout",
     "output_type": "stream",
     "text": [
      "Accuracy: 0.8432323232323232\n",
      "Precision: 0.8489932885906041\n",
      "Recall: 0.8295081967213115\n",
      "F1 Score: 0.8391376451077943\n"
     ]
    }
   ],
   "source": [
    "# predictions for 25 rounds\n",
    "preds = fed_model.predict(X_test)\n",
    "print(f\"Accuracy: {accuracy_score(y_test, preds)}\")\n",
    "print(f\"Precision: {precision_score(y_test, preds)}\")\n",
    "print(f\"Recall: {recall_score(y_test, preds)}\")\n",
    "print(f\"F1 Score: {f1_score(y_test, preds)}\")"
   ]
  },
  {
   "cell_type": "code",
   "execution_count": null,
   "metadata": {},
   "outputs": [
    {
     "name": "stdout",
     "output_type": "stream",
     "text": [
      "Accuracy: 0.8713131313131313\n",
      "Precision: 0.858509366281387\n",
      "Recall: 0.8842364532019704\n",
      "F1 Score: 0.8711830131445905\n"
     ]
    }
   ],
   "source": [
    "# predictions for next model\n",
    "preds = fed_model.predict(X_test)\n",
    "print(f\"Accuracy: {accuracy_score(y_test, preds)}\")\n",
    "print(f\"Precision: {precision_score(y_test, preds)}\")\n",
    "print(f\"Recall: {recall_score(y_test, preds)}\")\n",
    "print(f\"F1 Score: {f1_score(y_test, preds)}\")"
   ]
  },
  {
   "cell_type": "code",
   "execution_count": 16,
   "metadata": {},
   "outputs": [
    {
     "name": "stdout",
     "output_type": "stream",
     "text": [
      "Accuracy: 0.8644444444444445\n",
      "Precision: 0.8557033454252317\n",
      "Recall: 0.8715106732348111\n",
      "F1 Score: 0.8635346756152126\n"
     ]
    }
   ],
   "source": [
    "# predictions for 3rd model\n",
    "preds = fed_model.predict(X_test)\n",
    "print(f\"Accuracy: {accuracy_score(y_test, preds)}\")\n",
    "print(f\"Precision: {precision_score(y_test, preds)}\")\n",
    "print(f\"Recall: {recall_score(y_test, preds)}\")\n",
    "print(f\"F1 Score: {f1_score(y_test, preds)}\")"
   ]
  },
  {
   "cell_type": "code",
   "execution_count": 14,
   "metadata": {},
   "outputs": [
    {
     "name": "stdout",
     "output_type": "stream",
     "text": [
      "Accuracy: 91.49%\n"
     ]
    }
   ],
   "source": [
    "# accuracy on training data\n",
    "y_pred = fed_model.predict(X_train)\n",
    "predictions = [round(value) for value in y_pred]\n",
    "accuracy = accuracy_score(y_train, predictions)\n",
    "print(\"Accuracy: %.2f%%\" % (accuracy * 100.0))"
   ]
  },
  {
   "cell_type": "code",
   "execution_count": 15,
   "metadata": {},
   "outputs": [
    {
     "name": "stdout",
     "output_type": "stream",
     "text": [
      "Accuracy: 0.9418181818181818\n",
      "Precision: 0.9373983739837398\n",
      "Recall: 0.9450819672131148\n",
      "F1 Score: 0.9412244897959183\n"
     ]
    }
   ],
   "source": [
    "# test xgboost classifier from pytho\n",
    "model = xgb.XGBClassifier()\n",
    "\n",
    "model.fit(X_train, y_train)\n",
    "preds = model.predict(X_test)\n",
    "print(f\"Accuracy: {accuracy_score(y_test, preds)}\")\n",
    "print(f\"Precision: {precision_score(y_test, preds)}\")\n",
    "print(f\"Recall: {recall_score(y_test, preds)}\")\n",
    "print(f\"F1 Score: {f1_score(y_test, preds)}\")\n"
   ]
  },
  {
   "cell_type": "code",
   "execution_count": null,
   "metadata": {},
   "outputs": [],
   "source": []
  }
 ],
 "metadata": {
  "kernelspec": {
   "display_name": "Python 3",
   "language": "python",
   "name": "python3"
  },
  "language_info": {
   "codemirror_mode": {
    "name": "ipython",
    "version": 3
   },
   "file_extension": ".py",
   "mimetype": "text/x-python",
   "name": "python",
   "nbconvert_exporter": "python",
   "pygments_lexer": "ipython3",
   "version": "3.10.1"
  }
 },
 "nbformat": 4,
 "nbformat_minor": 2
}
