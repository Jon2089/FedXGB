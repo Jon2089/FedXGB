{
 "cells": [
  {
   "cell_type": "code",
   "execution_count": 1,
   "metadata": {},
   "outputs": [],
   "source": [
    "import numpy as np\n",
    "import pandas as pd\n",
    "from sklearn.datasets import make_classification\n",
    "import xgboost as xgb\n",
    "from sklearn.model_selection import train_test_split\n",
    "from sklearn.metrics import accuracy_score, f1_score, precision_score, recall_score, roc_auc_score\n",
    "import matplotlib.pyplot as plt\n",
    "from customxgboost import XGBoostClassifier, XGBoostTree\n",
    "from fedXGB import Client, FedXGBoost\n",
    "from customxgboost import XGBoostClassifier as myxgb\n"
   ]
  },
  {
   "cell_type": "code",
   "execution_count": 2,
   "metadata": {},
   "outputs": [],
   "source": [
    "# Generate dummy data\n",
    "def create_dummy_data(n_samples = 1000, n_features = 5, n_informative = 4, n_redundant = 1, random_state = 42):\n",
    "\n",
    "    # Create the dataset\n",
    "    X, y = make_classification(\n",
    "        n_samples=n_samples,\n",
    "        n_features=n_features,\n",
    "        n_informative=n_informative,\n",
    "        n_redundant=n_redundant,\n",
    "        n_classes=2,\n",
    "        random_state=random_state\n",
    "    )\n",
    "\n",
    "    # Convert to DataFrame for convenience\n",
    "    df = pd.DataFrame(X, columns=[f\"feature_{i}\" for i in range(n_features)])\n",
    "    df['label'] = y\n",
    "\n",
    "    return df"
   ]
  },
  {
   "cell_type": "code",
   "execution_count": 3,
   "metadata": {},
   "outputs": [],
   "source": [
    "data = create_dummy_data()"
   ]
  },
  {
   "cell_type": "code",
   "execution_count": 4,
   "metadata": {},
   "outputs": [
    {
     "data": {
      "text/html": [
       "<div>\n",
       "<style scoped>\n",
       "    .dataframe tbody tr th:only-of-type {\n",
       "        vertical-align: middle;\n",
       "    }\n",
       "\n",
       "    .dataframe tbody tr th {\n",
       "        vertical-align: top;\n",
       "    }\n",
       "\n",
       "    .dataframe thead th {\n",
       "        text-align: right;\n",
       "    }\n",
       "</style>\n",
       "<table border=\"1\" class=\"dataframe\">\n",
       "  <thead>\n",
       "    <tr style=\"text-align: right;\">\n",
       "      <th></th>\n",
       "      <th>feature_0</th>\n",
       "      <th>feature_1</th>\n",
       "      <th>feature_2</th>\n",
       "      <th>feature_3</th>\n",
       "      <th>feature_4</th>\n",
       "      <th>label</th>\n",
       "    </tr>\n",
       "  </thead>\n",
       "  <tbody>\n",
       "    <tr>\n",
       "      <th>0</th>\n",
       "      <td>0.168781</td>\n",
       "      <td>1.233807</td>\n",
       "      <td>0.799134</td>\n",
       "      <td>-0.002455</td>\n",
       "      <td>1.845764</td>\n",
       "      <td>0</td>\n",
       "    </tr>\n",
       "    <tr>\n",
       "      <th>1</th>\n",
       "      <td>-2.295020</td>\n",
       "      <td>1.306530</td>\n",
       "      <td>1.724324</td>\n",
       "      <td>0.203136</td>\n",
       "      <td>0.799842</td>\n",
       "      <td>0</td>\n",
       "    </tr>\n",
       "    <tr>\n",
       "      <th>2</th>\n",
       "      <td>-0.604085</td>\n",
       "      <td>-0.616336</td>\n",
       "      <td>0.097299</td>\n",
       "      <td>0.590089</td>\n",
       "      <td>0.391630</td>\n",
       "      <td>1</td>\n",
       "    </tr>\n",
       "    <tr>\n",
       "      <th>3</th>\n",
       "      <td>0.809984</td>\n",
       "      <td>-0.991216</td>\n",
       "      <td>-0.681218</td>\n",
       "      <td>0.027227</td>\n",
       "      <td>-0.204549</td>\n",
       "      <td>1</td>\n",
       "    </tr>\n",
       "    <tr>\n",
       "      <th>4</th>\n",
       "      <td>-1.335521</td>\n",
       "      <td>-1.801725</td>\n",
       "      <td>2.507519</td>\n",
       "      <td>-1.823245</td>\n",
       "      <td>1.326508</td>\n",
       "      <td>1</td>\n",
       "    </tr>\n",
       "    <tr>\n",
       "      <th>...</th>\n",
       "      <td>...</td>\n",
       "      <td>...</td>\n",
       "      <td>...</td>\n",
       "      <td>...</td>\n",
       "      <td>...</td>\n",
       "      <td>...</td>\n",
       "    </tr>\n",
       "    <tr>\n",
       "      <th>995</th>\n",
       "      <td>0.149176</td>\n",
       "      <td>-1.103748</td>\n",
       "      <td>-1.058602</td>\n",
       "      <td>-0.180894</td>\n",
       "      <td>-2.296767</td>\n",
       "      <td>0</td>\n",
       "    </tr>\n",
       "    <tr>\n",
       "      <th>996</th>\n",
       "      <td>-1.101701</td>\n",
       "      <td>-0.235431</td>\n",
       "      <td>1.139614</td>\n",
       "      <td>-1.117096</td>\n",
       "      <td>-0.638240</td>\n",
       "      <td>0</td>\n",
       "    </tr>\n",
       "    <tr>\n",
       "      <th>997</th>\n",
       "      <td>-0.715706</td>\n",
       "      <td>0.501286</td>\n",
       "      <td>3.493893</td>\n",
       "      <td>-2.323410</td>\n",
       "      <td>3.280411</td>\n",
       "      <td>0</td>\n",
       "    </tr>\n",
       "    <tr>\n",
       "      <th>998</th>\n",
       "      <td>1.176546</td>\n",
       "      <td>0.768030</td>\n",
       "      <td>-1.853346</td>\n",
       "      <td>1.178682</td>\n",
       "      <td>-0.879747</td>\n",
       "      <td>1</td>\n",
       "    </tr>\n",
       "    <tr>\n",
       "      <th>999</th>\n",
       "      <td>-0.229235</td>\n",
       "      <td>-1.289550</td>\n",
       "      <td>0.598175</td>\n",
       "      <td>-0.933964</td>\n",
       "      <td>-0.184131</td>\n",
       "      <td>0</td>\n",
       "    </tr>\n",
       "  </tbody>\n",
       "</table>\n",
       "<p>1000 rows × 6 columns</p>\n",
       "</div>"
      ],
      "text/plain": [
       "     feature_0  feature_1  feature_2  feature_3  feature_4  label\n",
       "0     0.168781   1.233807   0.799134  -0.002455   1.845764      0\n",
       "1    -2.295020   1.306530   1.724324   0.203136   0.799842      0\n",
       "2    -0.604085  -0.616336   0.097299   0.590089   0.391630      1\n",
       "3     0.809984  -0.991216  -0.681218   0.027227  -0.204549      1\n",
       "4    -1.335521  -1.801725   2.507519  -1.823245   1.326508      1\n",
       "..         ...        ...        ...        ...        ...    ...\n",
       "995   0.149176  -1.103748  -1.058602  -0.180894  -2.296767      0\n",
       "996  -1.101701  -0.235431   1.139614  -1.117096  -0.638240      0\n",
       "997  -0.715706   0.501286   3.493893  -2.323410   3.280411      0\n",
       "998   1.176546   0.768030  -1.853346   1.178682  -0.879747      1\n",
       "999  -0.229235  -1.289550   0.598175  -0.933964  -0.184131      0\n",
       "\n",
       "[1000 rows x 6 columns]"
      ]
     },
     "execution_count": 4,
     "metadata": {},
     "output_type": "execute_result"
    }
   ],
   "source": [
    "data"
   ]
  },
  {
   "cell_type": "code",
   "execution_count": 5,
   "metadata": {},
   "outputs": [
    {
     "name": "stdout",
     "output_type": "stream",
     "text": [
      "Accuracy: 90.91%\n"
     ]
    }
   ],
   "source": [
    "# split data into train and test sets\n",
    "X = data.drop('label', axis=1)\n",
    "y = data['label']\n",
    "X_train, X_test, y_train, y_test = train_test_split(X, y, test_size=0.33, random_state=42)\n",
    "\n",
    "# fit model no training data\n",
    "model = xgb.XGBClassifier()\n",
    "model.fit(X_train, y_train)\n",
    "\n",
    "# make predictions for test data\n",
    "y_pred = model.predict(X_test)\n",
    "predictions = [round(value) for value in y_pred]\n",
    "\n",
    "# evaluate predictions\n",
    "accuracy = accuracy_score(y_test, predictions)\n",
    "print(\"Accuracy: %.2f%%\" % (accuracy * 100.0))"
   ]
  },
  {
   "cell_type": "code",
   "execution_count": 6,
   "metadata": {},
   "outputs": [],
   "source": [
    "\n",
    "\n",
    "# my_model = myxgb()\n",
    "# my_model.fit(X_train, y_train, boosting_rounds=20, depth=5, learning_rate=0.3)\n",
    "\n",
    "# # make predictions for test data\n",
    "# y_pred = my_model.predict(X_test)\n",
    "# predictions = [round(value) for value in y_pred]\n",
    "\n",
    "# # evaluate predictions\n",
    "# accuracy = accuracy_score(y_test, predictions)\n",
    "# print(\"Accuracy: %.2f%%\" % (accuracy * 100.0))\n"
   ]
  },
  {
   "cell_type": "code",
   "execution_count": 7,
   "metadata": {},
   "outputs": [],
   "source": [
    "# # accuracy on training data\n",
    "# y_pred = my_model.predict(X_train)\n",
    "# predictions = [round(value) for value in y_pred]\n",
    "# accuracy = accuracy_score(y_train, predictions)\n",
    "# print(\"Accuracy: %.2f%%\" % (accuracy * 100.0))"
   ]
  },
  {
   "cell_type": "code",
   "execution_count": 8,
   "metadata": {},
   "outputs": [
    {
     "name": "stdout",
     "output_type": "stream",
     "text": [
      "Training Complete\n",
      "Accuracy: 86.97%\n"
     ]
    }
   ],
   "source": [
    "my_model = myxgb(method='hist')\n",
    "# my_model.max_bins = 1000\n",
    "my_model.fit(X_train, y_train, boosting_rounds=20, depth=5, learning_rate=0.3)\n",
    "\n",
    "# make predictions for test data\n",
    "y_pred = my_model.predict(X_test)\n",
    "predictions = [round(value) for value in y_pred]\n",
    "\n",
    "# evaluate predictions\n",
    "accuracy = accuracy_score(y_test, predictions)\n",
    "print(\"Accuracy: %.2f%%\" % (accuracy * 100.0))"
   ]
  },
  {
   "cell_type": "code",
   "execution_count": 9,
   "metadata": {},
   "outputs": [
    {
     "name": "stdout",
     "output_type": "stream",
     "text": [
      "Accuracy: 89.25%\n"
     ]
    }
   ],
   "source": [
    "# accuracy on training data\n",
    "y_pred = my_model.predict(X_train)\n",
    "predictions = [round(value) for value in y_pred]\n",
    "accuracy = accuracy_score(y_train, predictions)\n",
    "print(\"Accuracy: %.2f%%\" % (accuracy * 100.0))"
   ]
  },
  {
   "cell_type": "code",
   "execution_count": 10,
   "metadata": {},
   "outputs": [],
   "source": [
    "\n",
    "# # create 3 clients\n",
    "# client1 = Client(X_train[:300], y_train[:300])\n",
    "# client2 = Client(X_train[300:600], y_train[300:600])\n",
    "# client3 = Client(X_train[600:], y_train[600:])\n",
    "\n",
    "# # create a federated model with the 3 clients\n",
    "# fed_model = FedXGBoost([client1, client2, client3])\n",
    "\n",
    "# # fit the model\n",
    "# fed_model.fit(subsample_cols=0.8)\n"
   ]
  },
  {
   "cell_type": "code",
   "execution_count": 11,
   "metadata": {},
   "outputs": [],
   "source": [
    "# # make predictions\n",
    "# preds = fed_model.predict(X_test)\n",
    "# print(f\"Accuracy: {accuracy_score(y_test, preds)}\")\n",
    "# print(f\"Precision: {precision_score(y_test, preds)}\")\n",
    "# print(f\"Recall: {recall_score(y_test, preds)}\")\n",
    "# print(f\"F1 Score: {f1_score(y_test, preds)}\")"
   ]
  },
  {
   "cell_type": "code",
   "execution_count": 12,
   "metadata": {},
   "outputs": [],
   "source": [
    "# # test xgboost classifier from pytho\n",
    "# model = xgb.XGBClassifier()\n",
    "\n",
    "# model.fit(X_train, y_train)\n",
    "# preds = model.predict(X_test)\n",
    "# print(f\"Accuracy: {accuracy_score(y_test, preds)}\")\n",
    "# print(f\"Precision: {precision_score(y_test, preds)}\")\n",
    "# print(f\"Recall: {recall_score(y_test, preds)}\")\n",
    "# print(f\"F1 Score: {f1_score(y_test, preds)}\")\n"
   ]
  },
  {
   "cell_type": "code",
   "execution_count": null,
   "metadata": {},
   "outputs": [],
   "source": []
  }
 ],
 "metadata": {
  "kernelspec": {
   "display_name": "Python 3",
   "language": "python",
   "name": "python3"
  },
  "language_info": {
   "codemirror_mode": {
    "name": "ipython",
    "version": 3
   },
   "file_extension": ".py",
   "mimetype": "text/x-python",
   "name": "python",
   "nbconvert_exporter": "python",
   "pygments_lexer": "ipython3",
   "version": "3.11.9"
  }
 },
 "nbformat": 4,
 "nbformat_minor": 2
}
