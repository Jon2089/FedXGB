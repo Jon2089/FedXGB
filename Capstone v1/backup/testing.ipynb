{
 "cells": [
  {
   "cell_type": "code",
   "execution_count": 17,
   "metadata": {},
   "outputs": [
    {
     "name": "stdout",
     "output_type": "stream",
     "text": [
      "Feature values: [ 23   4  55   2 -33  33   2 -14   4]\n",
      "Quantiles: [0.   0.25 0.5  0.75 1.  ]\n",
      "Bin edges: [-33.   2.   4.  23.  55.]\n"
     ]
    }
   ],
   "source": [
    "import numpy as np\n",
    "import pandas as pd\n",
    "\n",
    "# Sample data for a feature\n",
    "feature_values = np.array([23, 4, 55, 2, -33, 33, 2, -14, 4])\n",
    "\n",
    "# Number of bins\n",
    "max_bins = 4\n",
    "\n",
    "# Generate quantile-based bin edges\n",
    "quantiles = np.linspace(0, 1, max_bins + 1)  # [0, 0.25, 0.5, 0.75, 1]\n",
    "bin_edges = np.quantile(feature_values, quantiles)\n",
    "\n",
    "# Display the results\n",
    "print(\"Feature values:\", feature_values)\n",
    "print(\"Quantiles:\", quantiles)\n",
    "print(\"Bin edges:\", bin_edges)\n"
   ]
  },
  {
   "cell_type": "code",
   "execution_count": 3,
   "metadata": {},
   "outputs": [
    {
     "name": "stdout",
     "output_type": "stream",
     "text": [
      "1\n"
     ]
    }
   ],
   "source": [
    "for a in {1: 2}.keys():\n",
    "    print(a)"
   ]
  },
  {
   "cell_type": "code",
   "execution_count": 4,
   "metadata": {},
   "outputs": [],
   "source": [
    "a = (1, 3)"
   ]
  },
  {
   "cell_type": "code",
   "execution_count": 8,
   "metadata": {},
   "outputs": [
    {
     "data": {
      "text/plain": [
       "3"
      ]
     },
     "execution_count": 8,
     "metadata": {},
     "output_type": "execute_result"
    }
   ],
   "source": [
    "a[1]"
   ]
  },
  {
   "cell_type": "markdown",
   "metadata": {},
   "source": [
    "all_combinations = list(itertools.product(*[zip([None] + values, values + [None]) for values in splits]))"
   ]
  },
  {
   "cell_type": "code",
   "execution_count": 10,
   "metadata": {},
   "outputs": [
    {
     "name": "stdout",
     "output_type": "stream",
     "text": [
      "1\n",
      "2\n"
     ]
    }
   ],
   "source": [
    "for a in range(1, 3):\n",
    "    print(a)"
   ]
  },
  {
   "cell_type": "code",
   "execution_count": 11,
   "metadata": {},
   "outputs": [
    {
     "name": "stdout",
     "output_type": "stream",
     "text": [
      "[[[1. 1. 1. 1.]\n",
      "  [1. 1. 1. 1.]\n",
      "  [1. 1. 1. 1.]\n",
      "  [1. 1. 1. 1.]]\n",
      "\n",
      " [[1. 1. 1. 1.]\n",
      "  [1. 1. 1. 1.]\n",
      "  [1. 1. 1. 1.]\n",
      "  [1. 1. 1. 1.]]\n",
      "\n",
      " [[1. 1. 1. 1.]\n",
      "  [1. 1. 1. 1.]\n",
      "  [1. 1. 1. 1.]\n",
      "  [1. 1. 1. 1.]]\n",
      "\n",
      " [[1. 1. 1. 1.]\n",
      "  [1. 1. 1. 1.]\n",
      "  [1. 1. 1. 1.]\n",
      "  [1. 1. 1. 1.]]]\n",
      "(4, 4, 4)\n"
     ]
    }
   ],
   "source": [
    "import numpy as np\n",
    "\n",
    "dim = 3  # Example dimensionality\n",
    "size = 4  # Example size for each dimension\n",
    "\n",
    "# Create an array of ones, zeros, or random values\n",
    "array = np.ones([size] * dim)\n",
    "\n",
    "# Or, for zeros:\n",
    "# array = np.zeros([size] * dim)\n",
    "\n",
    "# Or, for random values:\n",
    "# array = np.random.rand(*([size] * dim))\n",
    "\n",
    "print(array)\n",
    "print(array.shape)  # Prints the shape of the array (size, size, size)\n",
    "\n"
   ]
  },
  {
   "cell_type": "code",
   "execution_count": 16,
   "metadata": {},
   "outputs": [],
   "source": [
    "import math\n",
    "\n",
    "max_bins = 256\n",
    "dim = 3\n",
    "\n"
   ]
  },
  {
   "cell_type": "code",
   "execution_count": 17,
   "metadata": {},
   "outputs": [
    {
     "data": {
      "text/plain": [
       "5"
      ]
     },
     "execution_count": 17,
     "metadata": {},
     "output_type": "execute_result"
    }
   ],
   "source": [
    "round(math.log(max_bins) / math.log(dim))"
   ]
  },
  {
   "cell_type": "code",
   "execution_count": 20,
   "metadata": {},
   "outputs": [
    {
     "data": {
      "text/plain": [
       "array([0, 1, 2, 3, 4])"
      ]
     },
     "execution_count": 20,
     "metadata": {},
     "output_type": "execute_result"
    }
   ],
   "source": [
    "np.array(np.arange(5))"
   ]
  },
  {
   "cell_type": "code",
   "execution_count": 48,
   "metadata": {},
   "outputs": [],
   "source": [
    "a = {'1': 3}"
   ]
  },
  {
   "cell_type": "code",
   "execution_count": 24,
   "metadata": {},
   "outputs": [
    {
     "name": "stdout",
     "output_type": "stream",
     "text": [
      "1\n"
     ]
    }
   ],
   "source": [
    "for x in a:\n",
    "    print(x)"
   ]
  },
  {
   "cell_type": "code",
   "execution_count": 30,
   "metadata": {},
   "outputs": [
    {
     "name": "stdout",
     "output_type": "stream",
     "text": [
      "Factors: [2, 2, 2, 2, 2, 2, 2, 2]\n",
      "Product: 256\n"
     ]
    }
   ],
   "source": [
    "def find_closest_factors(x, n):\n",
    "    import math\n",
    "    \n",
    "    # Take the n-th root of x\n",
    "    base = x ** (1 / n)\n",
    "    \n",
    "    # Split into integers close to the n-th root\n",
    "    lower = math.floor(base)\n",
    "    upper = math.ceil(base)\n",
    "    \n",
    "    # Start with all lower values\n",
    "    factors = [lower] * n\n",
    "    \n",
    "    # Adjust the factors to make the product closer to x\n",
    "    product = lower ** n\n",
    "    i = 0\n",
    "    while product < x and i < n:\n",
    "        factors[i] = upper\n",
    "        product = math.prod(factors)\n",
    "        i += 1\n",
    "    \n",
    "    return factors\n",
    "\n",
    "# Example usage:\n",
    "x = 256\n",
    "n = 8\n",
    "result = find_closest_factors(x, n)\n",
    "print(\"Factors:\", result)\n",
    "print(\"Product:\", math.prod(result))  # The product of the factors\n"
   ]
  },
  {
   "cell_type": "code",
   "execution_count": 33,
   "metadata": {},
   "outputs": [
    {
     "name": "stdout",
     "output_type": "stream",
     "text": [
      "1 3\n"
     ]
    }
   ],
   "source": [
    "for x, y in a.items():\n",
    "    print(x, y)"
   ]
  },
  {
   "cell_type": "code",
   "execution_count": 64,
   "metadata": {},
   "outputs": [
    {
     "data": {
      "text/plain": [
       "array([0, 1, 2, 3, 4, 5, 6, 7, 8, 9])"
      ]
     },
     "execution_count": 64,
     "metadata": {},
     "output_type": "execute_result"
    }
   ],
   "source": [
    "np.arange(10)"
   ]
  },
  {
   "cell_type": "code",
   "execution_count": 63,
   "metadata": {},
   "outputs": [
    {
     "data": {
      "text/plain": [
       "array([0.  , 2.25, 4.5 , 6.75, 9.  ])"
      ]
     },
     "execution_count": 63,
     "metadata": {},
     "output_type": "execute_result"
    }
   ],
   "source": [
    "np.quantile(np.arange(10), q=np.linspace(0, 1, 5))"
   ]
  },
  {
   "cell_type": "code",
   "execution_count": 26,
   "metadata": {},
   "outputs": [
    {
     "name": "stdout",
     "output_type": "stream",
     "text": [
      "Region: ((None, 2), (None, 15)), Indices: [0]\n",
      "Region: ((None, 2), (15, 35)), Indices: [1]\n",
      "Region: ((None, 2), (35, None)), Indices: []\n",
      "Region: ((2, 4), (None, 15)), Indices: []\n",
      "Region: ((2, 4), (15, 35)), Indices: [2]\n",
      "Region: ((2, 4), (35, None)), Indices: [3]\n",
      "Region: ((4, None), (None, 15)), Indices: []\n",
      "Region: ((4, None), (15, 35)), Indices: []\n",
      "Region: ((4, None), (35, None)), Indices: [4]\n"
     ]
    }
   ],
   "source": [
    "import pandas as pd\n",
    "import itertools\n",
    "\n",
    "def get_region_indices(df, feature_splits):\n",
    "    \"\"\"\n",
    "    Identify indices of dataset points in each region defined by feature splits.\n",
    "\n",
    "    Args:\n",
    "        df (pd.DataFrame): Dataset with features as columns.\n",
    "        feature_splits (dict): Dictionary where keys are feature names and values are split values.\n",
    "\n",
    "    Returns:\n",
    "        dict: A dictionary mapping region tuples to lists of indices.\n",
    "    \"\"\"\n",
    "    # Generate region bounds using combinations of split values\n",
    "    regions = {}\n",
    "    features = list(feature_splits.keys())\n",
    "    splits = [feature_splits[feature] for feature in features]\n",
    "    \n",
    "    # Generate all possible regions by taking product of split ranges\n",
    "    all_combinations = list(itertools.product(*[\n",
    "        zip([None] + values, values + [None]) for values in splits\n",
    "    ]))\n",
    "    \n",
    "    # Iterate through each region definition\n",
    "    for region in all_combinations:\n",
    "        # Create boolean masks for the region\n",
    "        region_conditions = []\n",
    "        for i, (lower, upper) in enumerate(region):\n",
    "            feature = features[i]\n",
    "            if lower is not None:\n",
    "                region_conditions.append(df[feature] > lower)\n",
    "            if upper is not None:\n",
    "                region_conditions.append(df[feature] <= upper)\n",
    "        \n",
    "        # Combine all conditions using logical AND\n",
    "        if region_conditions:\n",
    "            mask = region_conditions[0]\n",
    "            for condition in region_conditions[1:]:\n",
    "                mask = mask & condition\n",
    "        else:\n",
    "            mask = pd.Series(True, index=df.index)\n",
    "        \n",
    "        # Store indices of points in this region\n",
    "        region_key = tuple(region)\n",
    "        regions[region_key] = df[mask].index.tolist()\n",
    "    \n",
    "    return regions\n",
    "\n",
    "# Example usage\n",
    "df = pd.DataFrame({\n",
    "    \"feature1\": [1, 2, 3, 4, 5],\n",
    "    \"feature2\": [10, 20, 30, 40, 50]\n",
    "})\n",
    "\n",
    "feature_splits = {\n",
    "    \"feature1\": [2, 4],\n",
    "    \"feature2\": [15, 35]\n",
    "}\n",
    "\n",
    "result = get_region_indices(df, feature_splits)\n",
    "for region, indices in result.items():\n",
    "    print(f\"Region: {region}, Indices: {indices}\")\n"
   ]
  },
  {
   "cell_type": "code",
   "execution_count": 33,
   "metadata": {},
   "outputs": [
    {
     "data": {
      "text/plain": [
       "[2, 3, 4]"
      ]
     },
     "execution_count": 33,
     "metadata": {},
     "output_type": "execute_result"
    }
   ],
   "source": [
    "a = [1, 2, 3, 4, 5]\n",
    "a[1:-1]"
   ]
  },
  {
   "cell_type": "code",
   "execution_count": 27,
   "metadata": {},
   "outputs": [
    {
     "name": "stdout",
     "output_type": "stream",
     "text": [
      "Region: ((None, 3), (None, 5)), Indices: [28, 67, 80, 85]\n",
      "Region: ((None, 3), (5, 15)), Indices: [1, 5, 6, 8, 14, 16, 23, 39, 41, 43, 47, 53, 54, 57, 62, 64, 65, 70, 72, 73, 75, 81, 82, 84, 86, 89, 94, 97]\n",
      "Region: ((None, 3), (15, None)), Indices: [3, 20, 32, 40, 44, 60, 63, 78]\n",
      "Region: ((3, 7), (None, 5)), Indices: [4, 25, 46, 48, 58, 66]\n",
      "Region: ((3, 7), (5, 15)), Indices: [0, 2, 7, 11, 12, 17, 18, 21, 24, 27, 29, 30, 38, 42, 59, 71, 76, 77, 83, 90, 96]\n",
      "Region: ((3, 7), (15, None)), Indices: [15, 26, 35, 36, 52, 56, 68, 74]\n",
      "Region: ((7, None), (None, 5)), Indices: [9, 10, 31, 33, 37, 45, 49, 91, 98]\n",
      "Region: ((7, None), (5, 15)), Indices: [13, 22, 51, 55, 61, 87, 88, 93, 95, 99]\n",
      "Region: ((7, None), (15, None)), Indices: [19, 34, 50, 69, 79, 92]\n"
     ]
    }
   ],
   "source": [
    "# Example usage\n",
    "df = pd.DataFrame({\n",
    "    \"feature1\": np.random.uniform(0, 10, 100),\n",
    "    \"feature2\": np.random.uniform(0, 20, 100)\n",
    "})\n",
    "\n",
    "feature_splits = {\n",
    "    \"feature1\": [3, 7],\n",
    "    \"feature2\": [5, 15]\n",
    "}\n",
    "\n",
    "result = get_region_indices(df, feature_splits)\n",
    "for region, indices in result.items():\n",
    "    print(f\"Region: {region}, Indices: {indices}\")"
   ]
  },
  {
   "cell_type": "code",
   "execution_count": 38,
   "metadata": {},
   "outputs": [],
   "source": [
    "a = np.arange(8)"
   ]
  },
  {
   "cell_type": "code",
   "execution_count": 39,
   "metadata": {},
   "outputs": [
    {
     "data": {
      "text/plain": [
       "array([0, 1, 2, 3, 4, 5, 6, 7])"
      ]
     },
     "execution_count": 39,
     "metadata": {},
     "output_type": "execute_result"
    }
   ],
   "source": [
    "a"
   ]
  },
  {
   "cell_type": "code",
   "execution_count": 40,
   "metadata": {},
   "outputs": [],
   "source": [
    "b = np.arange(8)"
   ]
  },
  {
   "cell_type": "code",
   "execution_count": 41,
   "metadata": {},
   "outputs": [],
   "source": [
    "a += b"
   ]
  },
  {
   "cell_type": "code",
   "execution_count": 42,
   "metadata": {},
   "outputs": [
    {
     "data": {
      "text/plain": [
       "array([ 0,  2,  4,  6,  8, 10, 12, 14])"
      ]
     },
     "execution_count": 42,
     "metadata": {},
     "output_type": "execute_result"
    }
   ],
   "source": [
    "a"
   ]
  },
  {
   "cell_type": "code",
   "execution_count": 37,
   "metadata": {},
   "outputs": [
    {
     "data": {
      "text/plain": [
       "np.int64(0)"
      ]
     },
     "execution_count": 37,
     "metadata": {},
     "output_type": "execute_result"
    }
   ],
   "source": [
    "np.sum(a[[]])"
   ]
  },
  {
   "cell_type": "code",
   "execution_count": null,
   "metadata": {},
   "outputs": [],
   "source": []
  },
  {
   "cell_type": "code",
   "execution_count": 79,
   "metadata": {},
   "outputs": [
    {
     "data": {
      "text/plain": [
       "array([[[0, 1],\n",
       "        [2, 3]],\n",
       "\n",
       "       [[4, 5],\n",
       "        [6, 7]]])"
      ]
     },
     "execution_count": 79,
     "metadata": {},
     "output_type": "execute_result"
    }
   ],
   "source": [
    "a.reshape([2, 2, 2])"
   ]
  },
  {
   "cell_type": "code",
   "execution_count": 28,
   "metadata": {},
   "outputs": [],
   "source": [
    "import pandas as pd\n",
    "import numpy as np\n",
    "import matplotlib.pyplot as plt\n",
    "\n",
    "def visualize_splits(df, feature_splits):\n",
    "    \"\"\"\n",
    "    Visualize the dataset and the regions defined by feature splits.\n",
    "    \n",
    "    Args:\n",
    "        df (pd.DataFrame): The dataset.\n",
    "        feature_splits (dict): Dictionary of feature splits.\n",
    "    \"\"\"\n",
    "    # Plotting only the first two features for simplicity\n",
    "    features = list(feature_splits.keys())[:2]\n",
    "    if len(features) < 2:\n",
    "        print(\"Visualization requires at least two features.\")\n",
    "        return\n",
    "    \n",
    "    feature1, feature2 = features\n",
    "    \n",
    "    # Scatter plot of the original data\n",
    "    plt.figure(figsize=(8, 6))\n",
    "    plt.scatter(df[feature1], df[feature2], c=\"blue\", label=\"Data points\", alpha=0.6)\n",
    "    \n",
    "    # Add vertical lines for splits in feature1\n",
    "    for split in feature_splits[feature1]:\n",
    "        plt.axvline(x=split, color='red', linestyle='--', label=f\"{feature1} split={split}\")\n",
    "    \n",
    "    # Add horizontal lines for splits in feature2\n",
    "    for split in feature_splits[feature2]:\n",
    "        plt.axhline(y=split, color='green', linestyle='--', label=f\"{feature2} split={split}\")\n",
    "    \n",
    "    # Add labels and legend\n",
    "    plt.xlabel(feature1)\n",
    "    plt.ylabel(feature2)\n",
    "    plt.title(\"Feature Space and Splits\")\n",
    "    plt.legend(loc=\"upper right\")\n",
    "    plt.grid(alpha=0.3)\n",
    "    plt.show()\n",
    "\n",
    "def visualize_regions(df, feature_splits):\n",
    "    \"\"\"\n",
    "    Visualize data points in their respective regions after splitting.\n",
    "    \n",
    "    Args:\n",
    "        df (pd.DataFrame): The dataset.\n",
    "        feature_splits (dict): Dictionary of feature splits.\n",
    "    \"\"\"\n",
    "    # Generate regions\n",
    "    regions = get_region_indices(df, feature_splits)\n",
    "    \n",
    "    # Plotting only the first two features for simplicity\n",
    "    features = list(feature_splits.keys())[:2]\n",
    "    if len(features) < 2:\n",
    "        print(\"Visualization requires at least two features.\")\n",
    "        return\n",
    "    \n",
    "    feature1, feature2 = features\n",
    "    colors = plt.cm.get_cmap(\"tab10\", len(regions))  # Generate colors for each region\n",
    "    \n",
    "    plt.figure(figsize=(8, 6))\n",
    "    for i, (region, indices) in enumerate(regions.items()):\n",
    "        region_points = df.iloc[indices]\n",
    "        plt.scatter(region_points[feature1], region_points[feature2], \n",
    "                    label=f\"Region {i+1}: {region}\", alpha=0.6, color=colors(i))\n",
    "    \n",
    "    # Add labels and legend\n",
    "    plt.xlabel(feature1)\n",
    "    plt.ylabel(feature2)\n",
    "    plt.title(\"Data Points in Regions\")\n",
    "    plt.legend(loc=\"upper right\", fontsize=8)\n",
    "    plt.grid(alpha=0.3)\n",
    "    plt.show()\n",
    "\n",
    "\n"
   ]
  },
  {
   "cell_type": "code",
   "execution_count": 140,
   "metadata": {},
   "outputs": [],
   "source": [
    "a = [[-4.34147719, -0.13850982,  1.19986035,  5.60841185], [-3.7173166 , -0.75548933,  5.44201867], [-4.26981582,  0.65349059,  4.72404577], [-5.81420332,  0.165713  ,  4.60566863], [-2.96176943,  0.5837432 ,  6.03679289]]"
   ]
  },
  {
   "cell_type": "code",
   "execution_count": 147,
   "metadata": {},
   "outputs": [],
   "source": [
    "all_combinations = list(itertools.product(*[\n",
    "    zip([None] + values, values + [None]) for values in a\n",
    "]))"
   ]
  },
  {
   "cell_type": "code",
   "execution_count": 143,
   "metadata": {},
   "outputs": [],
   "source": [
    "features = ['feature1', 'feature2', 'feature3']\n",
    "feature_splits = {feature: splits for feature, splits in zip(features, a)}\n"
   ]
  },
  {
   "cell_type": "code",
   "execution_count": 144,
   "metadata": {},
   "outputs": [
    {
     "data": {
      "text/plain": [
       "{'feature1': [-4.34147719, -0.13850982, 1.19986035, 5.60841185],\n",
       " 'feature2': [-3.7173166, -0.75548933, 5.44201867],\n",
       " 'feature3': [-4.26981582, 0.65349059, 4.72404577]}"
      ]
     },
     "execution_count": 144,
     "metadata": {},
     "output_type": "execute_result"
    }
   ],
   "source": [
    "feature_splits"
   ]
  },
  {
   "cell_type": "code",
   "execution_count": 32,
   "metadata": {},
   "outputs": [
    {
     "name": "stdout",
     "output_type": "stream",
     "text": [
      "Region: ((None, 1), (None, 1)), Indices: [0]\n",
      "Region: ((None, 1), (1, 15)), Indices: []\n",
      "Region: ((None, 1), (15, 30)), Indices: []\n",
      "Region: ((None, 1), (30, None)), Indices: []\n",
      "Region: ((1, 7), (None, 1)), Indices: []\n",
      "Region: ((1, 7), (1, 15)), Indices: []\n",
      "Region: ((1, 7), (15, 30)), Indices: [1]\n",
      "Region: ((1, 7), (30, None)), Indices: []\n",
      "Region: ((7, 9), (None, 1)), Indices: []\n",
      "Region: ((7, 9), (1, 15)), Indices: []\n",
      "Region: ((7, 9), (15, 30)), Indices: []\n",
      "Region: ((7, 9), (30, None)), Indices: []\n",
      "Region: ((9, None), (None, 1)), Indices: []\n",
      "Region: ((9, None), (1, 15)), Indices: []\n",
      "Region: ((9, None), (15, 30)), Indices: []\n",
      "Region: ((9, None), (30, None)), Indices: []\n"
     ]
    },
    {
     "data": {
      "image/png": "[encoded data removed]",
      "text/plain": [
       "<Figure size 800x600 with 1 Axes>"
      ]
     },
     "metadata": {},
     "output_type": "display_data"
    },
    {
     "name": "stderr",
     "output_type": "stream",
     "text": [
      "C:\\Users\\PC\\AppData\\Local\\Temp\\ipykernel_11432\\1286388893.py:59: MatplotlibDeprecationWarning: The get_cmap function was deprecated in Matplotlib 3.7 and will be removed in 3.11. Use ``matplotlib.colormaps[name]`` or ``matplotlib.colormaps.get_cmap()`` or ``pyplot.get_cmap()`` instead.\n",
      "  colors = plt.cm.get_cmap(\"tab10\", len(regions))  # Generate colors for each region\n"
     ]
    },
    {
     "data": {
      "image/png": "[encoded data removed]",
      "text/plain": [
       "<Figure size 800x600 with 1 Axes>"
      ]
     },
     "metadata": {},
     "output_type": "display_data"
    }
   ],
   "source": [
    "# # Example usage\n",
    "# df = pd.DataFrame({\n",
    "#     \"feature1\": np.random.uniform(-10, 10, 100),\n",
    "#     \"feature2\": np.random.uniform(-10, 20, 100),\n",
    "#     'feature3': np.random.uniform(-10, 20, 100)\n",
    "# })\n",
    "\n",
    "# Example usage\n",
    "df = pd.DataFrame({\n",
    "    \"feature1\": [0, 2],\n",
    "    \"feature2\": [-10, 20]\n",
    "})\n",
    "\n",
    "feature_splits = {\n",
    "    \"feature1\": [1, 7, 9],\n",
    "    \"feature2\": [1, 15, 30]\n",
    "}\n",
    "\n",
    "result = get_region_indices(df, feature_splits)\n",
    "for region, indices in result.items():\n",
    "    print(f\"Region: {region}, Indices: {indices}\")\n",
    "\n",
    "visualize_splits(df, feature_splits)\n",
    "visualize_regions(df, feature_splits)"
   ]
  },
  {
   "cell_type": "code",
   "execution_count": 21,
   "metadata": {},
   "outputs": [],
   "source": [
    "# Example usage\n",
    "df = pd.DataFrame({\n",
    "    \"feature1\": [1, 2],\n",
    "    \"feature2\": [10, 20]\n",
    "})\n",
    "\n",
    "feature_splits = {\n",
    "    \"feature1\": [2, 4],\n",
    "    \"feature2\": [15, 35]\n",
    "}"
   ]
  },
  {
   "cell_type": "code",
   "execution_count": 22,
   "metadata": {},
   "outputs": [
    {
     "data": {
      "image/png": "[encoded data removed]",
      "text/plain": [
       "<Figure size 800x600 with 1 Axes>"
      ]
     },
     "metadata": {},
     "output_type": "display_data"
    },
    {
     "name": "stderr",
     "output_type": "stream",
     "text": [
      "C:\\Users\\PC\\AppData\\Local\\Temp\\ipykernel_11432\\1286388893.py:59: MatplotlibDeprecationWarning: The get_cmap function was deprecated in Matplotlib 3.7 and will be removed in 3.11. Use ``matplotlib.colormaps[name]`` or ``matplotlib.colormaps.get_cmap()`` or ``pyplot.get_cmap()`` instead.\n",
      "  colors = plt.cm.get_cmap(\"tab10\", len(regions))  # Generate colors for each region\n"
     ]
    },
    {
     "data": {
      "image/png": "[encoded data removed]",
      "text/plain": [
       "<Figure size 800x600 with 1 Axes>"
      ]
     },
     "metadata": {},
     "output_type": "display_data"
    }
   ],
   "source": [
    "visualize_splits(df, feature_splits)\n",
    "visualize_regions(df, feature_splits)"
   ]
  },
  {
   "cell_type": "code",
   "execution_count": 45,
   "metadata": {},
   "outputs": [
    {
     "data": {
      "text/plain": [
       "array([[0., 0., 0., 0., 0.],\n",
       "       [0., 0., 0., 0., 0.],\n",
       "       [0., 0., 0., 0., 0.]])"
      ]
     },
     "execution_count": 45,
     "metadata": {},
     "output_type": "execute_result"
    }
   ],
   "source": [
    "np.zeros([3, 5])"
   ]
  },
  {
   "cell_type": "code",
   "execution_count": 50,
   "metadata": {},
   "outputs": [
    {
     "name": "stdout",
     "output_type": "stream",
     "text": [
      "Value at [1, 3, 5]: 49\n"
     ]
    }
   ],
   "source": [
    "import numpy as np\n",
    "\n",
    "# Example NumPy array\n",
    "array = np.random.randint(0, 100, (4, 5, 6))  # A random 3D array of shape (4, 5, 6)\n",
    "\n",
    "# Coordinate or address\n",
    "coordinate = [1, 3, 5]  # Example coordinate\n",
    "\n",
    "# Access the element using the coordinate\n",
    "value = array[tuple(coordinate)]\n",
    "\n",
    "print(f\"Value at {coordinate}: {value}\")\n"
   ]
  },
  {
   "cell_type": "code",
   "execution_count": 52,
   "metadata": {},
   "outputs": [],
   "source": [
    "a = np.arange(6)"
   ]
  },
  {
   "cell_type": "code",
   "execution_count": 53,
   "metadata": {},
   "outputs": [
    {
     "data": {
      "text/plain": [
       "array([0, 1, 2, 3, 4, 5])"
      ]
     },
     "execution_count": 53,
     "metadata": {},
     "output_type": "execute_result"
    }
   ],
   "source": [
    "a"
   ]
  },
  {
   "cell_type": "code",
   "execution_count": 54,
   "metadata": {},
   "outputs": [],
   "source": [
    "b = a[:5]"
   ]
  },
  {
   "cell_type": "code",
   "execution_count": 57,
   "metadata": {},
   "outputs": [
    {
     "name": "stdout",
     "output_type": "stream",
     "text": [
      "Sum of values at specified indices: 17\n"
     ]
    }
   ],
   "source": [
    "import numpy as np\n",
    "\n",
    "# Example NumPy array\n",
    "array = np.random.randint(0, 10, (4, 5, 6))  # A random 3D array of shape (4, 5, 6)\n",
    "\n",
    "# Set of indices (example, list of tuples where each tuple is an index location)\n",
    "indices = [(1, 3, 5), (0, 2, 4), (3, 4, 2)]\n",
    "\n",
    "# Use tuple unpacking and advanced indexing to access elements at those indices\n",
    "values = array[tuple(zip(*indices))]  # zip(*indices) will separate indices by dimensions\n",
    "\n",
    "# Sum the values at those locations\n",
    "sum_values = np.sum(values)\n",
    "\n",
    "print(f\"Sum of values at specified indices: {sum_values}\")\n"
   ]
  },
  {
   "cell_type": "code",
   "execution_count": 60,
   "metadata": {},
   "outputs": [
    {
     "data": {
      "text/plain": [
       "array([[[9, 6, 5, 3, 5, 3],\n",
       "        [6, 6, 4, 1, 4, 4],\n",
       "        [7, 3, 3, 6, 5, 5],\n",
       "        [3, 3, 6, 2, 1, 3],\n",
       "        [3, 4, 3, 4, 0, 5]],\n",
       "\n",
       "       [[5, 8, 2, 2, 7, 7],\n",
       "        [9, 9, 7, 7, 9, 3],\n",
       "        [7, 2, 3, 4, 7, 9],\n",
       "        [3, 2, 6, 2, 7, 8],\n",
       "        [5, 0, 0, 9, 6, 7]],\n",
       "\n",
       "       [[8, 6, 2, 3, 5, 2],\n",
       "        [5, 9, 8, 4, 5, 9],\n",
       "        [4, 1, 0, 7, 8, 7],\n",
       "        [9, 7, 0, 3, 2, 2],\n",
       "        [9, 4, 0, 3, 0, 8]],\n",
       "\n",
       "       [[3, 7, 5, 2, 9, 9],\n",
       "        [3, 8, 4, 0, 1, 0],\n",
       "        [3, 2, 0, 0, 9, 1],\n",
       "        [8, 9, 0, 6, 9, 6],\n",
       "        [9, 7, 4, 0, 8, 9]]], dtype=int32)"
      ]
     },
     "execution_count": 60,
     "metadata": {},
     "output_type": "execute_result"
    }
   ],
   "source": [
    "array"
   ]
  },
  {
   "cell_type": "code",
   "execution_count": 61,
   "metadata": {},
   "outputs": [
    {
     "data": {
      "text/plain": [
       "array([8, 5, 4], dtype=int32)"
      ]
     },
     "execution_count": 61,
     "metadata": {},
     "output_type": "execute_result"
    }
   ],
   "source": [
    "values"
   ]
  },
  {
   "cell_type": "code",
   "execution_count": 117,
   "metadata": {},
   "outputs": [
    {
     "name": "stdout",
     "output_type": "stream",
     "text": [
      "Original shape: (4, 6)\n",
      "Shape of first split: (4, 3)\n",
      "Shape of second split: (4, 3)\n"
     ]
    }
   ],
   "source": [
    "import numpy as np\n",
    "\n",
    "# Example n-dimensional array (3D in this case)\n",
    "array = np.random.randint(0, 10, (4, 6))\n",
    "\n",
    "# The dimension along which to split (k-th dimension)\n",
    "k = 1  # Let's say we want to split along the 2nd dimension (axis=1)\n",
    "\n",
    "# We split it into two arrays along the k-th dimension\n",
    "# np.split works when the size is divisible by the number of splits.\n",
    "split_array = np.split(array, 2, axis=k)\n",
    "\n",
    "# Show the result\n",
    "print(\"Original shape:\", array.shape)\n",
    "print(\"Shape of first split:\", split_array[0].shape)\n",
    "print(\"Shape of second split:\", split_array[1].shape)\n"
   ]
  },
  {
   "cell_type": "code",
   "execution_count": 118,
   "metadata": {},
   "outputs": [
    {
     "data": {
      "text/plain": [
       "array([[0, 1, 1, 4, 8, 1],\n",
       "       [9, 6, 3, 0, 7, 0],\n",
       "       [4, 2, 6, 9, 3, 6],\n",
       "       [5, 5, 6, 5, 0, 1]], dtype=int32)"
      ]
     },
     "execution_count": 118,
     "metadata": {},
     "output_type": "execute_result"
    }
   ],
   "source": [
    "array"
   ]
  },
  {
   "cell_type": "code",
   "execution_count": 119,
   "metadata": {},
   "outputs": [
    {
     "data": {
      "text/plain": [
       "[array([[0, 1, 1],\n",
       "        [9, 6, 3],\n",
       "        [4, 2, 6],\n",
       "        [5, 5, 6]], dtype=int32),\n",
       " array([[4, 8, 1],\n",
       "        [0, 7, 0],\n",
       "        [9, 3, 6],\n",
       "        [5, 0, 1]], dtype=int32)]"
      ]
     },
     "execution_count": 119,
     "metadata": {},
     "output_type": "execute_result"
    }
   ],
   "source": [
    "split_array"
   ]
  },
  {
   "cell_type": "code",
   "execution_count": 125,
   "metadata": {},
   "outputs": [
    {
     "name": "stdout",
     "output_type": "stream",
     "text": [
      "Original shape: (4, 6)\n",
      "Shape of first split: (4, 2)\n",
      "Shape of second split: (4, 4)\n"
     ]
    }
   ],
   "source": [
    "import numpy as np\n",
    "\n",
    "# Example n-dimensional array (3D in this case)\n",
    "array = np.random.randint(0, 10, (4, 6))\n",
    "\n",
    "# The dimension along which to split (k-th dimension)\n",
    "k = 1  # Let's say we want to split along the 2nd dimension (axis=1)\n",
    "\n",
    "# The index at which to split (xth index)\n",
    "x = 2  # Split at index 2 along the 2nd dimension\n",
    "\n",
    "# Use slicing to split the array at the x-th index\n",
    "split1 = array.take(indices=range(0, x), axis=k)  # First part\n",
    "split2 = array.take(indices=range(x, array.shape[k]), axis=k)  # Second part\n",
    "\n",
    "# Show the result\n",
    "print(\"Original shape:\", array.shape)\n",
    "print(\"Shape of first split:\", split1.shape)\n",
    "print(\"Shape of second split:\", split2.shape)\n"
   ]
  },
  {
   "cell_type": "code",
   "execution_count": 126,
   "metadata": {},
   "outputs": [
    {
     "data": {
      "text/plain": [
       "array([[3, 2, 3, 7, 1, 4],\n",
       "       [1, 4, 6, 6, 1, 9],\n",
       "       [0, 0, 1, 3, 1, 6],\n",
       "       [1, 3, 4, 1, 7, 9]], dtype=int32)"
      ]
     },
     "execution_count": 126,
     "metadata": {},
     "output_type": "execute_result"
    }
   ],
   "source": [
    "array"
   ]
  },
  {
   "cell_type": "code",
   "execution_count": 127,
   "metadata": {},
   "outputs": [
    {
     "data": {
      "text/plain": [
       "array([[3, 2],\n",
       "       [1, 4],\n",
       "       [0, 0],\n",
       "       [1, 3]], dtype=int32)"
      ]
     },
     "execution_count": 127,
     "metadata": {},
     "output_type": "execute_result"
    }
   ],
   "source": [
    "split1"
   ]
  },
  {
   "cell_type": "code",
   "execution_count": 129,
   "metadata": {},
   "outputs": [
    {
     "data": {
      "text/plain": [
       "np.int64(14)"
      ]
     },
     "execution_count": 129,
     "metadata": {},
     "output_type": "execute_result"
    }
   ],
   "source": []
  },
  {
   "cell_type": "code",
   "execution_count": 128,
   "metadata": {},
   "outputs": [
    {
     "data": {
      "text/plain": [
       "array([[3, 7, 1, 4],\n",
       "       [6, 6, 1, 9],\n",
       "       [1, 3, 1, 6],\n",
       "       [4, 1, 7, 9]], dtype=int32)"
      ]
     },
     "execution_count": 128,
     "metadata": {},
     "output_type": "execute_result"
    }
   ],
   "source": [
    "split2"
   ]
  },
  {
   "cell_type": "code",
   "execution_count": null,
   "metadata": {},
   "outputs": [],
   "source": [
    "import numpy as np\n",
    "import pandas as pd\n",
    "from math import e\n",
    "from histogram import Histogram\n",
    "\n",
    "class Node:\n",
    "    \n",
    "    '''\n",
    "    A node object that is recursivly called within itslef to construct a regression tree. Based on Tianqi Chen's XGBoost \n",
    "    the internal gain used to find the optimal split value uses both the gradient and hessian. Also a weighted quantlie sketch \n",
    "    and optimal leaf values all follow Chen's description in \"XGBoost: A Scalable Tree Boosting System\" the only thing not \n",
    "    implemented in this version is sparsity aware fitting or the ability to handle NA values with a default direction.\n",
    "\n",
    "    Inputs\n",
    "    ------------------------------------------------------------------------------------------------------------------\n",
    "    x: pandas datframe of the training data\n",
    "    gradient: negative gradient of the loss function\n",
    "    hessian: second order derivative of the loss function\n",
    "    idxs: used to keep track of samples within the tree structure\n",
    "    subsample_cols: is an implementation of layerwise column subsample randomizing the structure of the trees\n",
    "    (complexity parameter)\n",
    "    min_leaf: minimum number of samples for a node to be considered a node (complexity parameter)\n",
    "    min_child_weight: sum of the heassian inside a node is a meaure of purity (complexity parameter)\n",
    "    depth: limits the number of layers in the tree\n",
    "    lambda: L2 regularization term on weights. Increasing this value will make model more conservative.\n",
    "    gamma: This parameter also prevents over fitting and is present in the the calculation of the gain (structure score). \n",
    "    As this is subtracted from the gain it essentially sets a minimum gain amount to make a split in a node.\n",
    "    eps: This parameter is used in the quantile weighted skecth or 'approx' tree method roughly translates to \n",
    "    (1 / sketch_eps) number of bins\n",
    "\n",
    "    Outputs\n",
    "    --------------------------------------------------------------------------------------------------------------------\n",
    "    A single tree object that will be used for gradient boosintg.\n",
    "    '''\n",
    "\n",
    "    def __init__(self, x, gradient, hessian, idxs, subsample_cols = 0.8 , min_leaf = 5, min_child_weight = 1, \n",
    "                 depth = 10, lambda_ = 1, gamma = 1, eps = 0.1):\n",
    "      \n",
    "        self.x, self.gradient, self.hessian = x, gradient, hessian\n",
    "        self.idxs = idxs \n",
    "        self.depth = depth\n",
    "        self.min_leaf = min_leaf\n",
    "        self.lambda_ = lambda_\n",
    "        self.gamma  = gamma\n",
    "        self.min_child_weight = min_child_weight\n",
    "        self.row_count = len(idxs)\n",
    "        self.col_count = x.shape[1]\n",
    "        self.subsample_cols = subsample_cols\n",
    "        self.eps = eps\n",
    "        self.column_subsample = np.random.permutation(self.col_count)[:round(self.subsample_cols*self.col_count)]\n",
    "        \n",
    "        self.val = self.compute_gamma(self.gradient[self.idxs], self.hessian[self.idxs])\n",
    "          \n",
    "        self.score = float('-inf')\n",
    "        self.find_varsplit()\n",
    "        \n",
    "        \n",
    "    def compute_gamma(self, gradient, hessian):\n",
    "        '''\n",
    "        Calculates the optimal leaf value equation (5) in \"XGBoost: A Scalable Tree Boosting System\"\n",
    "        '''\n",
    "        return(-np.sum(gradient)/(np.sum(hessian) + self.lambda_))\n",
    "        \n",
    "    def find_varsplit(self):\n",
    "        '''\n",
    "        Scans through every column and calcuates the best split point.\n",
    "        The node is then split at this point and two new nodes are created.\n",
    "        Depth is only parameter to change as we have added a new layer to tre structure.\n",
    "        If no split is better than the score initalised at the begining then no splits further splits are made\n",
    "        '''\n",
    "        for c in self.column_subsample: self.find_greedy_split(c)\n",
    "        if self.is_leaf: return\n",
    "        x = self.split_col\n",
    "        lhs = np.nonzero(x <= self.split)[0]\n",
    "        rhs = np.nonzero(x > self.split)[0]\n",
    "        self.lhs = Node(x = self.x, gradient = self.gradient, hessian = self.hessian, idxs = self.idxs[lhs], min_leaf = self.min_leaf, depth = self.depth-1, lambda_ = self.lambda_ , gamma = self.gamma, min_child_weight = self.min_child_weight, eps = self.eps, subsample_cols = self.subsample_cols)\n",
    "        self.rhs = Node(x = self.x, gradient = self.gradient, hessian = self.hessian, idxs = self.idxs[rhs], min_leaf = self.min_leaf, depth = self.depth-1, lambda_ = self.lambda_ , gamma = self.gamma, min_child_weight = self.min_child_weight, eps = self.eps, subsample_cols = self.subsample_cols)\n",
    "        \n",
    "    def find_greedy_split(self, var_idx):\n",
    "        '''\n",
    "         For a given feature greedily calculates the gain at each split.\n",
    "         Globally updates the best score and split point if a better split point is found\n",
    "        '''\n",
    "        x = self.x[self.idxs, var_idx]\n",
    "        \n",
    "        for r in range(self.row_count):\n",
    "            lhs = x <= x[r]\n",
    "            rhs = x > x[r]\n",
    "            \n",
    "            lhs_indices = np.nonzero(x <= x[r])[0]\n",
    "            rhs_indices = np.nonzero(x > x[r])[0]\n",
    "            if(rhs.sum() < self.min_leaf or lhs.sum() < self.min_leaf \n",
    "               or self.hessian[lhs_indices].sum() < self.min_child_weight\n",
    "               or self.hessian[rhs_indices].sum() < self.min_child_weight): continue\n",
    "\n",
    "            curr_score = self.gain(lhs, rhs)\n",
    "            if curr_score > self.score: \n",
    "                self.var_idx = var_idx\n",
    "                self.score = curr_score\n",
    "                self.split = x[r]\n",
    "                \n",
    "    def weighted_qauntile_sketch(self, var_idx):\n",
    "        '''\n",
    "        XGBOOST Mini-Version\n",
    "        Yiyang \"Joe\" Zeng\n",
    "        Is an approximation to the eact greedy approach faster for bigger datasets wher it is not feasible\n",
    "        to calculate the gain at every split point. Uses equation (8) and (9) from \"XGBoost: A Scalable Tree Boosting System\"\n",
    "        '''\n",
    "        x = self.x[self.idxs, var_idx]\n",
    "        hessian_ = self.hessian[self.idxs]\n",
    "        df = pd.DataFrame({'feature':x,'hess':hessian_})\n",
    "        \n",
    "        df.sort_values(by=['feature'], ascending = True, inplace = True)\n",
    "        hess_sum = df['hess'].sum() \n",
    "        df['rank'] = df.apply(lambda x : (1/hess_sum)*sum(df[df['feature'] < x['feature']]['hess']), axis=1)\n",
    "        \n",
    "        for row in range(df.shape[0]-1):\n",
    "            # look at the current rank and the next ran\n",
    "            rk_sk_j, rk_sk_j_1 = df['rank'].iloc[row:row+2]\n",
    "            diff = abs(rk_sk_j - rk_sk_j_1)\n",
    "            if(diff >= self.eps):\n",
    "                continue\n",
    "                \n",
    "            split_value = (df['rank'].iloc[row+1] + df['rank'].iloc[row])/2\n",
    "            lhs = x <= split_value\n",
    "            rhs = x > split_value\n",
    "            \n",
    "            lhs_indices = np.nonzero(x <= split_value)[0]\n",
    "            rhs_indices = np.nonzero(x > split_value)[0]\n",
    "            if(rhs.sum() < self.min_leaf or lhs.sum() < self.min_leaf \n",
    "               or self.hessian[lhs_indices].sum() < self.min_child_weight\n",
    "               or self.hessian[rhs_indices].sum() < self.min_child_weight): continue\n",
    "                \n",
    "            curr_score = self.gain(lhs, rhs)\n",
    "            if curr_score > self.score: \n",
    "                self.var_idx = var_idx\n",
    "                self.score = curr_score\n",
    "                self.split = split_value\n",
    "                \n",
    "    def gain(self, lhs, rhs):\n",
    "        '''\n",
    "        Calculates the gain at a particular split point bases on equation (7) from\n",
    "        \"XGBoost: A Scalable Tree Boosting System\"\n",
    "        '''\n",
    "        gradient = self.gradient[self.idxs]\n",
    "        hessian  = self.hessian[self.idxs]\n",
    "        \n",
    "        lhs_gradient = gradient[lhs].sum()\n",
    "        lhs_hessian  = hessian[lhs].sum()\n",
    "        \n",
    "        rhs_gradient = gradient[rhs].sum()\n",
    "        rhs_hessian  = hessian[rhs].sum()\n",
    "        \n",
    "        gain = 0.5 *( (lhs_gradient**2/(lhs_hessian + self.lambda_)) + (rhs_gradient**2/(rhs_hessian + self.lambda_)) - ((lhs_gradient + rhs_gradient)**2/(lhs_hessian + rhs_hessian + self.lambda_))) - self.gamma\n",
    "        return(gain)\n",
    "                \n",
    "    @property\n",
    "    def split_col(self):\n",
    "        '''\n",
    "        splits a column \n",
    "        '''\n",
    "        return self.x[self.idxs , self.var_idx]\n",
    "                \n",
    "    @property\n",
    "    def is_leaf(self):\n",
    "        '''\n",
    "        checks if node is a leaf\n",
    "        '''\n",
    "        return self.score == float('-inf') or self.depth <= 0                 \n",
    "\n",
    "    def predict(self, x):\n",
    "        return np.array([self.predict_row(xi) for xi in x])\n",
    "    \n",
    "    def predict_row(self, xi):\n",
    "        if self.is_leaf:\n",
    "            return(self.val)\n",
    "\n",
    "        node = self.lhs if xi[self.var_idx] <= self.split else self.rhs\n",
    "        return node.predict_row(xi)\n",
    "    \n",
    "\n",
    "class HistogramNode:\n",
    "    \"\"\"\n",
    "    A node object that constructs a regression tree using histograms of gradients and hessians.\n",
    "    This class is designed for use with a histogram-based implementation of XGBoost.\n",
    "\n",
    "    Inputs\n",
    "    ------------------------------------------------------------------------------------------------------------------\n",
    "    histogram: A dictionary with the structure:\n",
    "               histogram[feature] = {\n",
    "                   'gradient': gradients (numpy array),\n",
    "                   'hessian': hessians (numpy array),\n",
    "                   'bin_edges': bin_edges (numpy array)\n",
    "               }\n",
    "    idxs: Array of sample indices associated with the node.\n",
    "    subsample_cols: Proportion of columns to subsample at each layer.\n",
    "    min_leaf: Minimum number of samples for a node to be considered a valid node.\n",
    "    min_child_weight: Minimum sum of hessian values required in a node to allow splitting.\n",
    "    depth: Maximum depth of the tree.\n",
    "    lambda_: L2 regularization term on weights.\n",
    "    gamma: Minimum gain required to make a split.\n",
    "    \"\"\"\n",
    "\n",
    "    def __init__(self, histogram, feature_splits, subsample_cols=0.8, min_leaf=5, min_child_weight=1,\n",
    "                 depth=10, lambda_=1, gamma=1):\n",
    "        self.histogram = histogram\n",
    "        self.feature_splits = feature_splits\n",
    "        self.depth = depth\n",
    "        self.min_leaf = min_leaf\n",
    "        self.lambda_ = lambda_\n",
    "        self.gamma = gamma\n",
    "        self.min_child_weight = min_child_weight\n",
    "\n",
    "        self.col_count = len(feature_splits)\n",
    "        self.subsample_cols = subsample_cols\n",
    "\n",
    "        self.column_subsample = np.random.permutation(self.col_count)[:\n",
    "            round(self.subsample_cols * self.col_count)\n",
    "        ]\n",
    "\n",
    "        self.val = self.compute_gamma()\n",
    "        self.score = float('-inf')\n",
    "        self.find_varsplit()\n",
    "\n",
    "    def compute_gamma(self):\n",
    "        \"\"\"\n",
    "        Calculates the optimal leaf value using the sum of gradients and hessians.\n",
    "        \"\"\"\n",
    "        total_gradient = np.sum(self.histogram['gradients'])\n",
    "        total_hessian = np.sum(self.histogram['hessians'])\n",
    "        return -total_gradient / (total_hessian + self.lambda_)\n",
    "\n",
    "    def find_varsplit(self):\n",
    "        \"\"\"\n",
    "        Identifies the best feature and split point for splitting the node.\n",
    "        \"\"\"\n",
    "        for feature_idx in self.column_subsample:\n",
    "            self.find_greedy_split(feature_idx)\n",
    "\n",
    "        if self.is_leaf:\n",
    "            return\n",
    "\n",
    "\n",
    "        features = list(self.feature_splits.keys())\n",
    "        feature = features[self.var_idx]\n",
    "\n",
    "        # Get the left and right idxs based on the split\n",
    "        lhs_feature_splits = self.feature_splits.copy()\n",
    "        lhs_feature_splits[feature] = lhs_feature_splits[feature][:self.split_idx]\n",
    "        rhs_feature_splits = self.feature_splits.copy()\n",
    "        rhs_feature_splits[feature] = rhs_feature_splits[feature][self.split_idx + 1:]\n",
    "\n",
    "        self.lhs = HistogramNode(\n",
    "            histogram=self.left_child_hist,\n",
    "            feature_splits=lhs_feature_splits,\n",
    "            subsample_cols=self.subsample_cols,\n",
    "            min_leaf=self.min_leaf,\n",
    "            min_child_weight=self.min_child_weight,\n",
    "            depth=self.depth - 1,\n",
    "            lambda_=self.lambda_,\n",
    "            gamma=self.gamma\n",
    "        )\n",
    "        self.rhs = HistogramNode(\n",
    "            histogram=self.right_child_hist,\n",
    "            feature_splits=rhs_feature_splits,\n",
    "            subsample_cols=self.subsample_cols,\n",
    "            min_leaf=self.min_leaf,\n",
    "            min_child_weight=self.min_child_weight,\n",
    "            depth=self.depth - 1,\n",
    "            lambda_=self.lambda_,\n",
    "            gamma=self.gamma\n",
    "        )\n",
    "\n",
    "    def find_greedy_split(self, feature_idx):\n",
    "        \"\"\"\n",
    "        Evaluates possible split points for a given feature using the histogram.\n",
    "        \"\"\"\n",
    "        gradients = self.histogram['gradients']\n",
    "        hessians = self.histogram['hessians']\n",
    "        counts = self.histogram['counts']\n",
    "\n",
    "        no_of_splits = len(list(self.feature_splits.values())[feature_idx])\n",
    "        for split_idx in range(no_of_splits):\n",
    "            lhs_gradients, rhs_gradients = self.split_feature(gradients, feature_idx, split_idx+1)\n",
    "            lhs_hessians, rhs_hessians = self.split_feature(hessians, feature_idx, split_idx+1)\n",
    "            lhs_counts, rhs_counts = self.split_feature(counts, feature_idx, split_idx+1)\n",
    "\n",
    "            lhs_gradient, rhs_gradient = np.sum(lhs_gradients), np.sum(rhs_gradients)\n",
    "            lhs_hessian, rhs_hessian = np.sum(lhs_hessians), np.sum(rhs_hessians)\n",
    "            lhs_count, rhs_count = np.sum(lhs_counts), np.sum(rhs_counts)\n",
    "\n",
    "            if (lhs_hessian < self.min_child_weight or\n",
    "                rhs_hessian < self.min_child_weight or\n",
    "                lhs_count < self.min_leaf or rhs_count < self.min_leaf):\n",
    "                continue\n",
    "\n",
    "            gain = self.compute_gain(lhs_gradient, lhs_hessian, rhs_gradient, rhs_hessian)\n",
    "\n",
    "            if gain > self.score:\n",
    "                self.var_idx = feature_idx\n",
    "                self.score = gain\n",
    "                self.split_idx = split_idx\n",
    "\n",
    "                self.left_child_hist = {'gradients': lhs_gradients,\n",
    "                                        'hessians': lhs_hessians,\n",
    "                                        'counts': lhs_counts}\n",
    "                \n",
    "                self.right_child_hist = {'gradients': rhs_gradients,\n",
    "                                        'hessians': rhs_hessians,\n",
    "                                        'counts': rhs_counts}                \n",
    "\n",
    "    def compute_gain(self, lhs_gradient, lhs_hessian, rhs_gradient, rhs_hessian):\n",
    "        \"\"\"\n",
    "        Computes the gain for a given split based on equation (7) from the XGBoost paper.\n",
    "        \"\"\"\n",
    "        gain = 0.5 * (\n",
    "            (lhs_gradient ** 2 / (lhs_hessian + self.lambda_)) +\n",
    "            (rhs_gradient ** 2 / (rhs_hessian + self.lambda_)) -\n",
    "            ((lhs_gradient + rhs_gradient) ** 2 / (lhs_hessian + rhs_hessian + self.lambda_))\n",
    "        ) - self.gamma\n",
    "        return gain\n",
    "    \n",
    "    @staticmethod\n",
    "    def split_feature(array, axis, index):\n",
    "        '''\n",
    "        splits a multidensional array at index 'index' of the 'axis' dimension\n",
    "        '''\n",
    "\n",
    "        split1 = array.take(indices=range(0, index), axis=axis)  # First part\n",
    "        split2 = array.take(indices=range(index, array.shape[axis]), axis=axis)\n",
    "\n",
    "        return split1, split2\n",
    "\n",
    "    @property\n",
    "    def is_leaf(self):\n",
    "        \"\"\"\n",
    "        Determines if the current node is a leaf.\n",
    "        \"\"\"\n",
    "        return self.score == float('-inf') or self.depth <= 0\n",
    "\n",
    "    def predict(self, x):\n",
    "        return np.array([self.predict_row(xi) for xi in x])\n",
    "\n",
    "    def predict_row(self, xi):\n",
    "        if self.is_leaf:\n",
    "            return self.val\n",
    "        \n",
    "        split_value = list(self.feature_splits.values())[self.var_idx][self.split_idx]\n",
    "\n",
    "        node = self.lhs if xi[self.var_idx] <= split_value else self.rhs\n",
    "        return node.predict_row(xi)\n",
    "\n",
    "\n",
    "\n",
    "\n",
    "    \n",
    "class XGBoostTree:\n",
    "    '''\n",
    "    Wrapper class that provides a scikit learn interface to the recursive regression tree above\n",
    "    \n",
    "    Inputs\n",
    "    ------------------------------------------------------------------------------------------------------------------\n",
    "    x: pandas datframe of the training data\n",
    "    gradient: negative gradient of the loss function\n",
    "    hessian: second order derivative of the loss function\n",
    "    idxs: used to keep track of samples within the tree structure\n",
    "    subsample_cols: is an implementation of layerwise column subsample randomizing the structure of the trees\n",
    "    (complexity parameter)\n",
    "    min_leaf: minimum number of samples for a node to be considered a node (complexity parameter)\n",
    "    min_child_weight: sum of the heassian inside a node is a meaure of purity (complexity parameter)\n",
    "    depth: limits the number of layers in the tree\n",
    "    lambda: L2 regularization term on weights. Increasing this value will make model more conservative.\n",
    "    gamma: This parameter also prevents over fitting and is present in the the calculation of the gain (structure score). \n",
    "    As this is subtracted from the gain it essentially sets a minimum gain amount to make a split in a node.\n",
    "    eps: This parameter is used in the quantile weighted skecth or 'approx' tree method roughly translates to \n",
    "    (1 / sketch_eps) number of bins\n",
    "    \n",
    "    Outputs\n",
    "    --------------------------------------------------------------------------------------------------------------------\n",
    "    A single tree object that will be used for gradient boosintg.\n",
    "    \n",
    "    '''\n",
    "    def fit(self, x, gradient, hessian, subsample_cols = 0.8 , min_leaf = 5, min_child_weight = 1 ,depth = 10, lambda_ = 1, gamma = 1, eps = 0.1):\n",
    "        self.dtree = Node(x, gradient, hessian, np.array(np.arange(len(x))), subsample_cols, min_leaf, min_child_weight, depth, lambda_, gamma, eps)\n",
    "        return self\n",
    "    \n",
    "    def hist_fit(self, histogram, max_bins, feature_splits = None, subsample_cols=0.8, min_leaf=5, min_child_weight=1, depth=10, lambda_=1, gamma=1):\n",
    "        if feature_splits is None:\n",
    "            feature_splits = histogram.feature_splits\n",
    "        if isinstance(histogram, Histogram):\n",
    "            histogram = histogram.histogram\n",
    "        self.dtree = HistogramNode(histogram, feature_splits, subsample_cols=0.8, min_leaf=5, min_child_weight=1,\n",
    "                 depth=10, lambda_=1, gamma=1)\n",
    "        return self\n",
    "\n",
    "    \n",
    "    def predict(self, X):\n",
    "        return self.dtree.predict(X)\n",
    "   \n",
    "   \n",
    "class XGBoostClassifier:\n",
    "    '''\n",
    "    Full application of the XGBoost algorithm as described in \"XGBoost: A Scalable Tree Boosting System\" for \n",
    "    Binary Classification.\n",
    "\n",
    "    Inputs\n",
    "    ------------------------------------------------------------------------------------------------------------------\n",
    "    x: pandas datframe of the training data\n",
    "    gradient: negative gradient of the loss function\n",
    "    hessian: second order derivative of the loss function\n",
    "    idxs: used to keep track of samples within the tree structure\n",
    "    subsample_cols: is an implementation of layerwise column subsample randomizing the structure of the trees\n",
    "    (complexity parameter)\n",
    "    min_leaf: minimum number of samples for a node to be considered a node (complexity parameter)\n",
    "    min_child_weight: sum of the heassian inside a node is a meaure of purity (complexity parameter)\n",
    "    depth: limits the number of layers in the tree\n",
    "    lambda: L2 regularization term on weights. Increasing this value will make model more conservative.\n",
    "    gamma: This parameter also prevents over fitting and is present in the the calculation of the gain (structure score). \n",
    "    As this is subtracted from the gain it essentially sets a minimum gain amount to make a split in a node.\n",
    "    eps: This parameter is used in the quantile weighted skecth or 'approx' tree method roughly translates to \n",
    "    (1 / sketch_eps) number of bins\n",
    "\n",
    "    Outputs\n",
    "    --------------------------------------------------------------------------------------------------------------------\n",
    "    A single tree object that will be used for gradient boosintg.\n",
    "    '''\n",
    "    def __init__(self, method = 'regular'):\n",
    "        self.estimators = []\n",
    "        self.method = method\n",
    "        self.max_bins = None\n",
    "    \n",
    "    @staticmethod\n",
    "    def sigmoid(x):\n",
    "        return 1 / (1 + np.exp(-x))\n",
    "    \n",
    "    # first order gradient logLoss\n",
    "    def grad(self, preds, labels):\n",
    "        preds = self.sigmoid(preds)\n",
    "        return(preds - labels)\n",
    "    \n",
    "    # second order gradient logLoss\n",
    "    def hess(self, preds, labels):\n",
    "        preds = self.sigmoid(preds)\n",
    "        return(preds * (1 - preds))\n",
    "    \n",
    "    @staticmethod\n",
    "    def log_odds(column):\n",
    "        binary_yes = np.count_nonzero(column == 1)\n",
    "        binary_no  = np.count_nonzero(column == 0)\n",
    "        return(np.log(binary_yes/binary_no))\n",
    "    \n",
    "    \n",
    "    def fit(self, X, y, subsample_cols = 0.8 , min_child_weight = 1, depth = 5, min_leaf = 5, learning_rate = 0.4, boosting_rounds = 5, lambda_ = 1.5, gamma = 1, eps = 0.1):\n",
    "\n",
    "        self.depth = depth\n",
    "        self.subsample_cols = subsample_cols\n",
    "        self.eps = eps\n",
    "        self.min_child_weight = min_child_weight \n",
    "        self.min_leaf = min_leaf\n",
    "        self.learning_rate = learning_rate\n",
    "        self.boosting_rounds = boosting_rounds \n",
    "        self.lambda_ = lambda_\n",
    "        self.gamma  = gamma\n",
    "    \n",
    "        self.base_pred = np.full((X.shape[0], 1), 0).flatten().astype('float64')\n",
    "\n",
    "        self.X = X.to_numpy() if isinstance(X, pd.DataFrame) else X\n",
    "        self.y = y.to_numpy() if isinstance(y, pd.Series) else y       \n",
    "\n",
    "        Grad = self.grad(self.base_pred, self.y)\n",
    "        Hess = self.hess(self.base_pred, self.y)\n",
    "        \n",
    "        if self.method == 'regular':\n",
    "            for booster in range(self.boosting_rounds):\n",
    "                boosting_tree = XGBoostTree().fit(self.X, Grad, Hess, depth = self.depth, min_leaf = self.min_leaf, lambda_ = self.lambda_, gamma = self.gamma, eps = self.eps, min_child_weight = self.min_child_weight, subsample_cols = self.subsample_cols)\n",
    "                self.base_pred += self.learning_rate * boosting_tree.predict(self.X)\n",
    "                self.estimators.append(boosting_tree)\n",
    "\n",
    "        elif self.method == 'hist':\n",
    "            max_bins = 256 if self.max_bins is None else self.max_bins\n",
    "            histogram = Histogram(max_bins=max_bins)\n",
    "            histogram.fit(X)\n",
    "            for booster in range(self.boosting_rounds):\n",
    "                histogram.compute_histogram(X, Grad, Hess)\n",
    "                boosting_tree = XGBoostTree().hist_fit(histogram, max_bins, subsample_cols = self.subsample_cols, min_leaf = self.min_leaf, min_child_weight = self.min_child_weight, depth = self.depth, lambda_ = self.lambda_, gamma = self.gamma)\n",
    "                self.base_pred += self.learning_rate * boosting_tree.predict(self.X)\n",
    "                self.estimators.append(boosting_tree)\n",
    "\n",
    "        print('Training Complete')\n",
    "\n",
    "\n",
    "          \n",
    "    def predict_proba(self, X):\n",
    "        pred = np.zeros(X.shape[0])\n",
    "        \n",
    "        for estimator in self.estimators:\n",
    "            pred += self.learning_rate * estimator.predict(X) \n",
    "          \n",
    "        return(self.sigmoid(np.full((X.shape[0], 1), 1).flatten().astype('float64') + pred))\n",
    "    \n",
    "    def predict(self, X):\n",
    "        X = X.to_numpy() if isinstance(X, pd.DataFrame) else X\n",
    "        pred = np.zeros(X.shape[0])\n",
    "        for estimator in self.estimators:\n",
    "            pred += self.learning_rate * estimator.predict(X) \n",
    "        \n",
    "        predicted_probas = self.sigmoid(np.full((X.shape[0], 1), 1).flatten().astype('float64') + pred)\n",
    "        preds = np.where(predicted_probas > np.mean(predicted_probas), 1, 0)\n",
    "        return(preds)\n",
    "       \n",
    "       \n",
    "class XGBoostRegressor:\n",
    "    '''\n",
    "    Full application of the XGBoost algorithm as described in \"XGBoost: A Scalable Tree Boosting System\" for \n",
    "    regression.\n",
    "\n",
    "    Inputs\n",
    "    ------------------------------------------------------------------------------------------------------------------\n",
    "    x: pandas datframe of the training data\n",
    "    gradient: negative gradient of the loss function\n",
    "    hessian: second order derivative of the loss function\n",
    "    idxs: used to keep track of samples within the tree structure\n",
    "    subsample_cols: is an implementation of layerwise column subsample randomizing the structure of the trees\n",
    "    (complexity parameter)\n",
    "    min_leaf: minimum number of samples for a node to be considered a node (complexity parameter)\n",
    "    min_child_weight: sum of the heassian inside a node is a meaure of purity (complexity parameter)\n",
    "    depth: limits the number of layers in the tree\n",
    "    lambda: L2 regularization term on weights. Increasing this value will make model more conservative.\n",
    "    gamma: This parameter also prevents over fitting and is present in the the calculation of the gain (structure score). \n",
    "    As this is subtracted from the gain it essentially sets a minimum gain amount to make a split in a node.\n",
    "    eps: This parameter is used in the quantile weighted skecth or 'approx' tree method roughly translates to \n",
    "    (1 / sketch_eps) number of bins\n",
    "\n",
    "    Outputs\n",
    "    --------------------------------------------------------------------------------------------------------------------\n",
    "    A single tree object that will be used for gradient boosintg.\n",
    "    '''\n",
    "    def __init__(self):\n",
    "        self.estimators = []\n",
    "    \n",
    "    # first order gradient mean squared error\n",
    "    @staticmethod\n",
    "    def grad(preds, labels):\n",
    "        return(2*(preds-labels))\n",
    "    \n",
    "    # second order gradient logLoss\n",
    "    @staticmethod\n",
    "    def hess(preds, labels):\n",
    "        '''\n",
    "        hessian of mean squared error is a constant value of two \n",
    "        returns an array of twos\n",
    "        '''\n",
    "        return(np.full((preds.shape[0], 1), 2).flatten().astype('float64'))\n",
    "    \n",
    "    \n",
    "    def fit(self, X, y, subsample_cols = 0.8 , min_child_weight = 1, depth = 5, min_leaf = 5, learning_rate = 0.4, boosting_rounds = 5, lambda_ = 1.5, gamma = 1, eps = 0.1):\n",
    "        self.X, self.y = X, y\n",
    "        self.depth = depth\n",
    "        self.subsample_cols = subsample_cols\n",
    "        self.eps = eps\n",
    "        self.min_child_weight = min_child_weight \n",
    "        self.min_leaf = min_leaf\n",
    "        self.learning_rate = learning_rate\n",
    "        self.boosting_rounds = boosting_rounds \n",
    "        self.lambda_ = lambda_\n",
    "        self.gamma  = gamma\n",
    "    \n",
    "        self.base_pred = np.full((X.shape[0], 1), np.mean(y)).flatten().astype('float64')\n",
    "    \n",
    "        for booster in range(self.boosting_rounds):\n",
    "            Grad = self.grad(self.base_pred, self.y)\n",
    "            Hess = self.hess(self.base_pred, self.y)\n",
    "            boosting_tree = XGBoostTree().fit(self.X, Grad, Hess, depth = self.depth, min_leaf = self.min_leaf, lambda_ = self.lambda_, gamma = self.gamma, eps = self.eps, min_child_weight = self.min_child_weight, subsample_cols = self.subsample_cols)\n",
    "            self.base_pred += self.learning_rate * boosting_tree.predict(self.X)\n",
    "            self.estimators.append(boosting_tree)\n",
    "          \n",
    "    def predict(self, X):\n",
    "        pred = np.zeros(X.shape[0])\n",
    "        \n",
    "        for estimator in self.estimators:\n",
    "            pred += self.learning_rate * estimator.predict(X) \n",
    "          \n",
    "        return np.full((X.shape[0], 1), np.mean(self.y)).flatten().astype('float64') + pred"
   ]
  },
  {
   "cell_type": "code",
   "execution_count": null,
   "metadata": {},
   "outputs": [],
   "source": [
    "import numpy as np\n",
    "import math\n",
    "import pandas as pd\n",
    "import itertools\n",
    "\n",
    "\n",
    "\n",
    "class Histogram:\n",
    "\n",
    "    def __init__(self, max_bins=256, client_initiate=False, feature_splits=None):\n",
    "        self.max_bins = max_bins\n",
    "        self.client_initiate = client_initiate\n",
    "        self.feature_splits = feature_splits\n",
    "\n",
    "\n",
    "\n",
    "    def fit(self, X):\n",
    "        self.features = [feature for feature in X.columns]\n",
    "        self.dim = len(self.features)\n",
    "        self.feature_splits = {feature: [] for feature in self.features} # {feature: bin_edges}\n",
    "\n",
    "        if self.feature_splits is None:\n",
    "            self.assign_bins(X)\n",
    "        \n",
    "        self.splits_per_feature = {feature: len(x) for feature, x in self.feature_splits.items()} #{feature: total splits in that feature}\n",
    "\n",
    "        if not self.client_initiate:\n",
    "            self.regions = self.get_region_indices(X)\n",
    "\n",
    "        self.fitted = True # so that histogram indices (regions) do not need to be found again\n",
    "\n",
    "    def assign_bins(self, df):\n",
    "\n",
    "        '''Assigns bins to column, binary and ordinal get bins = their values'''\n",
    "\n",
    "        continuous = []\n",
    "        non_continous = {}\n",
    "        for column in df.columns:\n",
    "            unique_values = df[column].dropna().unique()  # Exclude NaN values for classification\n",
    "            n_unique = len(unique_values)\n",
    "            \n",
    "            if pd.api.types.is_numeric_dtype(df[column]):\n",
    "                if n_unique < max(5, math.log(self.max_bins) // math.log(self.dim)):  # Arbitrary threshold for binary and ordinal\n",
    "                    self.feature_splits[column] = unique_values\n",
    "                    non_continous[column] = n_unique\n",
    "                else:\n",
    "                    continuous.append(column)\n",
    "\n",
    "        bins_left = self.max_bins\n",
    "        for column in non_continous:\n",
    "            bins_left = bins_left // non_continous[column]\n",
    "\n",
    "        bins = self.find_closest_factors(bins_left, len(continuous))\n",
    "\n",
    "        for i, column in enumerate(continuous):\n",
    "            total_bins = bins[i]\n",
    "            bin_edges = np.quantile(df[column], q=np.linspace(0, 1, total_bins + 1))\n",
    "            self.feature_splits[column] = bin_edges.tolist()[1:-1] # do not want min and max values as splits\n",
    "        \n",
    "\n",
    "    \n",
    "    @staticmethod\n",
    "    def find_closest_factors(x, n):\n",
    "        '''To find numer of bins for each feature'''\n",
    "        \n",
    "        # Take the n-th root of x\n",
    "        base = x ** (1 / n)\n",
    "        \n",
    "        # Split into integers close to the n-th root\n",
    "        lower = math.floor(base)\n",
    "        upper = math.ceil(base)\n",
    "        \n",
    "        # Start with all lower values\n",
    "        factors = [lower] * n\n",
    "        \n",
    "        # Adjust the factors to make the product closer to x\n",
    "        product = lower ** n\n",
    "        i = 0\n",
    "        while product < x and i < n:\n",
    "            factors[i] = upper\n",
    "            product = math.prod(factors)\n",
    "            i += 1\n",
    "        \n",
    "        return factors\n",
    "\n",
    "\n",
    "    def get_region_indices(self, df):\n",
    "        \"\"\"\n",
    "        Identify indices of dataset points in each region defined by feature splits.\n",
    "\n",
    "        Args:\n",
    "            df (pd.DataFrame): Dataset with features as columns.\n",
    "            feature_splits (dict): Dictionary where keys are feature names and values are split values.\n",
    "\n",
    "        Returns:\n",
    "            dict: A dictionary mapping region tuples to lists of indices.\n",
    "        \"\"\"\n",
    "        df = df.reset_index(drop=True)\n",
    "        \n",
    "        # Generate region bounds using combinations of split values\n",
    "        feature_splits = self.feature_splits\n",
    "        regions = {}\n",
    "        features = list(feature_splits.keys())\n",
    "        splits = feature_splits.values()\n",
    "\n",
    "        # Generate all possible regions by taking product of split ranges\n",
    "        all_combinations = list(itertools.product(*[\n",
    "            zip([None] + values, values + [None]) for values in splits\n",
    "        ]))\n",
    "        \n",
    "        # Iterate through each region definition\n",
    "        for region in all_combinations:\n",
    "            # Create boolean masks for the region\n",
    "            region_conditions = []\n",
    "            for i, (lower, upper) in enumerate(region):\n",
    "                feature = features[i]\n",
    "                if lower is not None:\n",
    "                    region_conditions.append(df[feature] > lower)\n",
    "                if upper is not None:\n",
    "                    region_conditions.append(df[feature] <= upper)\n",
    "            \n",
    "            # Combine all conditions using logical AND\n",
    "            if region_conditions:\n",
    "                mask = region_conditions[0]\n",
    "                for condition in region_conditions[1:]:\n",
    "                    mask = mask & condition\n",
    "            else:\n",
    "                mask = pd.Series(True, index=df.index)\n",
    "            \n",
    "            # Store indices of points in this region\n",
    "            region_key = tuple(region)\n",
    "            regions[region_key] = df[mask].index.tolist()\n",
    "        \n",
    "        return regions\n",
    "\n",
    "\n",
    "    def compute_histogram(self, X, Grad, Hess):\n",
    "\n",
    "        total_regions = len(self.regions)\n",
    "\n",
    "        gradients = np.zeros(total_regions)\n",
    "        hessians = np.zeros(total_regions)\n",
    "        counts = np.zeros(total_regions)\n",
    "\n",
    "        for i, (region, indices) in enumerate(self.regions.items()):\n",
    "            gradients[i] = np.sum(Grad[indices])\n",
    "            hessians[i] = np.sum(Hess[indices])\n",
    "            counts[i] = len(indices)\n",
    "\n",
    "        shape = np.array(list(self.splits_per_feature.values())) + 1 # regions = splits + 1\n",
    "        gradients = gradients.reshape(shape)\n",
    "        hessians = hessians.reshape(shape)\n",
    "        counts = counts.reshape(shape)\n",
    "\n",
    "        self.histogram = {'gradients': gradients, 'hessians': hessians, 'counts': counts}\n",
    "        \n",
    "        return self.histogram\n",
    "\n",
    "\n"
   ]
  }
 ],
 "metadata": {
  "kernelspec": {
   "display_name": "Python 3",
   "language": "python",
   "name": "python3"
  },
  "language_info": {
   "codemirror_mode": {
    "name": "ipython",
    "version": 3
   },
   "file_extension": ".py",
   "mimetype": "text/x-python",
   "name": "python",
   "nbconvert_exporter": "python",
   "pygments_lexer": "ipython3",
   "version": "3.11.9"
  }
 },
 "nbformat": 4,
 "nbformat_minor": 2
}
