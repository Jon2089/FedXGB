{
 "cells": [
  {
   "cell_type": "code",
   "execution_count": 1,
   "metadata": {},
   "outputs": [],
   "source": [
    "import numpy as np\n",
    "import pandas as pd\n",
    "from sklearn.datasets import make_classification\n",
    "import xgboost as xgb\n",
    "from sklearn.model_selection import train_test_split\n",
    "from sklearn.metrics import accuracy_score, f1_score, precision_score, recall_score, roc_auc_score\n",
    "import matplotlib.pyplot as plt\n",
    "from customxgboost import XGBoostClassifier, XGBoostTree\n",
    "from fedXGB import Client, FedXGBoost\n",
    "from customxgboost import XGBoostClassifier as myxgb\n"
   ]
  },
  {
   "cell_type": "code",
   "execution_count": 2,
   "metadata": {},
   "outputs": [],
   "source": [
    "# Generate dummy data\n",
    "def create_dummy_data(n_samples = 10000, n_features = 10, n_informative = 8, n_redundant = 2, random_state = 42):\n",
    "\n",
    "    # Create the dataset\n",
    "    X, y = make_classification(\n",
    "        n_samples=n_samples,\n",
    "        n_features=n_features,\n",
    "        n_informative=n_informative,\n",
    "        n_redundant=n_redundant,\n",
    "        n_classes=2,\n",
    "        random_state=random_state\n",
    "    )\n",
    "\n",
    "    # Convert to DataFrame for convenience\n",
    "    df = pd.DataFrame(X, columns=[f\"feature_{i}\" for i in range(n_features)])\n",
    "    df['label'] = y\n",
    "\n",
    "    return df"
   ]
  },
  {
   "cell_type": "code",
   "execution_count": 3,
   "metadata": {},
   "outputs": [],
   "source": [
    "data = create_dummy_data()"
   ]
  },
  {
   "cell_type": "code",
   "execution_count": 4,
   "metadata": {},
   "outputs": [
    {
     "data": {
      "text/html": [
       "<div>\n",
       "<style scoped>\n",
       "    .dataframe tbody tr th:only-of-type {\n",
       "        vertical-align: middle;\n",
       "    }\n",
       "\n",
       "    .dataframe tbody tr th {\n",
       "        vertical-align: top;\n",
       "    }\n",
       "\n",
       "    .dataframe thead th {\n",
       "        text-align: right;\n",
       "    }\n",
       "</style>\n",
       "<table border=\"1\" class=\"dataframe\">\n",
       "  <thead>\n",
       "    <tr style=\"text-align: right;\">\n",
       "      <th></th>\n",
       "      <th>feature_0</th>\n",
       "      <th>feature_1</th>\n",
       "      <th>feature_2</th>\n",
       "      <th>feature_3</th>\n",
       "      <th>feature_4</th>\n",
       "      <th>feature_5</th>\n",
       "      <th>feature_6</th>\n",
       "      <th>feature_7</th>\n",
       "      <th>feature_8</th>\n",
       "      <th>feature_9</th>\n",
       "      <th>label</th>\n",
       "    </tr>\n",
       "  </thead>\n",
       "  <tbody>\n",
       "    <tr>\n",
       "      <th>0</th>\n",
       "      <td>-2.273577</td>\n",
       "      <td>0.025135</td>\n",
       "      <td>-0.098951</td>\n",
       "      <td>-1.910959</td>\n",
       "      <td>-0.490930</td>\n",
       "      <td>-2.612120</td>\n",
       "      <td>-2.340507</td>\n",
       "      <td>-0.072464</td>\n",
       "      <td>2.671115</td>\n",
       "      <td>-0.658415</td>\n",
       "      <td>1</td>\n",
       "    </tr>\n",
       "    <tr>\n",
       "      <th>1</th>\n",
       "      <td>-2.633602</td>\n",
       "      <td>-1.064530</td>\n",
       "      <td>0.596068</td>\n",
       "      <td>-0.315907</td>\n",
       "      <td>3.620619</td>\n",
       "      <td>0.243131</td>\n",
       "      <td>-4.924947</td>\n",
       "      <td>1.309551</td>\n",
       "      <td>-0.441909</td>\n",
       "      <td>8.134933</td>\n",
       "      <td>1</td>\n",
       "    </tr>\n",
       "    <tr>\n",
       "      <th>2</th>\n",
       "      <td>2.560910</td>\n",
       "      <td>1.289750</td>\n",
       "      <td>1.271519</td>\n",
       "      <td>2.424127</td>\n",
       "      <td>-1.311381</td>\n",
       "      <td>-0.850302</td>\n",
       "      <td>2.476814</td>\n",
       "      <td>0.341372</td>\n",
       "      <td>2.234609</td>\n",
       "      <td>-5.429692</td>\n",
       "      <td>0</td>\n",
       "    </tr>\n",
       "    <tr>\n",
       "      <th>3</th>\n",
       "      <td>0.255632</td>\n",
       "      <td>-3.290428</td>\n",
       "      <td>1.514160</td>\n",
       "      <td>-0.085143</td>\n",
       "      <td>1.126927</td>\n",
       "      <td>-4.755379</td>\n",
       "      <td>0.820723</td>\n",
       "      <td>2.578251</td>\n",
       "      <td>0.362170</td>\n",
       "      <td>-3.539635</td>\n",
       "      <td>0</td>\n",
       "    </tr>\n",
       "    <tr>\n",
       "      <th>4</th>\n",
       "      <td>-1.250910</td>\n",
       "      <td>0.373713</td>\n",
       "      <td>1.226333</td>\n",
       "      <td>1.505599</td>\n",
       "      <td>-0.718096</td>\n",
       "      <td>1.228442</td>\n",
       "      <td>2.782940</td>\n",
       "      <td>-1.623311</td>\n",
       "      <td>2.992206</td>\n",
       "      <td>-6.717889</td>\n",
       "      <td>0</td>\n",
       "    </tr>\n",
       "    <tr>\n",
       "      <th>...</th>\n",
       "      <td>...</td>\n",
       "      <td>...</td>\n",
       "      <td>...</td>\n",
       "      <td>...</td>\n",
       "      <td>...</td>\n",
       "      <td>...</td>\n",
       "      <td>...</td>\n",
       "      <td>...</td>\n",
       "      <td>...</td>\n",
       "      <td>...</td>\n",
       "      <td>...</td>\n",
       "    </tr>\n",
       "    <tr>\n",
       "      <th>9995</th>\n",
       "      <td>-2.518808</td>\n",
       "      <td>-3.326460</td>\n",
       "      <td>-1.203037</td>\n",
       "      <td>2.227000</td>\n",
       "      <td>-1.920999</td>\n",
       "      <td>0.034816</td>\n",
       "      <td>0.105673</td>\n",
       "      <td>-0.221480</td>\n",
       "      <td>3.400589</td>\n",
       "      <td>-8.257107</td>\n",
       "      <td>0</td>\n",
       "    </tr>\n",
       "    <tr>\n",
       "      <th>9996</th>\n",
       "      <td>3.439655</td>\n",
       "      <td>1.400724</td>\n",
       "      <td>1.085159</td>\n",
       "      <td>2.172286</td>\n",
       "      <td>-3.800224</td>\n",
       "      <td>-2.774783</td>\n",
       "      <td>0.897944</td>\n",
       "      <td>-3.399414</td>\n",
       "      <td>-0.924083</td>\n",
       "      <td>-6.527160</td>\n",
       "      <td>0</td>\n",
       "    </tr>\n",
       "    <tr>\n",
       "      <th>9997</th>\n",
       "      <td>-2.118261</td>\n",
       "      <td>-1.773686</td>\n",
       "      <td>3.844588</td>\n",
       "      <td>-1.183138</td>\n",
       "      <td>2.543479</td>\n",
       "      <td>-2.705070</td>\n",
       "      <td>-2.435192</td>\n",
       "      <td>4.493852</td>\n",
       "      <td>2.417857</td>\n",
       "      <td>2.353397</td>\n",
       "      <td>0</td>\n",
       "    </tr>\n",
       "    <tr>\n",
       "      <th>9998</th>\n",
       "      <td>0.449766</td>\n",
       "      <td>3.097363</td>\n",
       "      <td>2.537797</td>\n",
       "      <td>-0.380602</td>\n",
       "      <td>0.594230</td>\n",
       "      <td>-0.740834</td>\n",
       "      <td>0.338637</td>\n",
       "      <td>-1.883345</td>\n",
       "      <td>0.621974</td>\n",
       "      <td>0.608565</td>\n",
       "      <td>0</td>\n",
       "    </tr>\n",
       "    <tr>\n",
       "      <th>9999</th>\n",
       "      <td>1.763981</td>\n",
       "      <td>3.532966</td>\n",
       "      <td>3.394216</td>\n",
       "      <td>2.538547</td>\n",
       "      <td>0.334245</td>\n",
       "      <td>0.785279</td>\n",
       "      <td>2.764131</td>\n",
       "      <td>0.080720</td>\n",
       "      <td>3.802087</td>\n",
       "      <td>-3.522564</td>\n",
       "      <td>0</td>\n",
       "    </tr>\n",
       "  </tbody>\n",
       "</table>\n",
       "<p>10000 rows × 11 columns</p>\n",
       "</div>"
      ],
      "text/plain": [
       "      feature_0  feature_1  feature_2  feature_3  feature_4  feature_5  \\\n",
       "0     -2.273577   0.025135  -0.098951  -1.910959  -0.490930  -2.612120   \n",
       "1     -2.633602  -1.064530   0.596068  -0.315907   3.620619   0.243131   \n",
       "2      2.560910   1.289750   1.271519   2.424127  -1.311381  -0.850302   \n",
       "3      0.255632  -3.290428   1.514160  -0.085143   1.126927  -4.755379   \n",
       "4     -1.250910   0.373713   1.226333   1.505599  -0.718096   1.228442   \n",
       "...         ...        ...        ...        ...        ...        ...   \n",
       "9995  -2.518808  -3.326460  -1.203037   2.227000  -1.920999   0.034816   \n",
       "9996   3.439655   1.400724   1.085159   2.172286  -3.800224  -2.774783   \n",
       "9997  -2.118261  -1.773686   3.844588  -1.183138   2.543479  -2.705070   \n",
       "9998   0.449766   3.097363   2.537797  -0.380602   0.594230  -0.740834   \n",
       "9999   1.763981   3.532966   3.394216   2.538547   0.334245   0.785279   \n",
       "\n",
       "      feature_6  feature_7  feature_8  feature_9  label  \n",
       "0     -2.340507  -0.072464   2.671115  -0.658415      1  \n",
       "1     -4.924947   1.309551  -0.441909   8.134933      1  \n",
       "2      2.476814   0.341372   2.234609  -5.429692      0  \n",
       "3      0.820723   2.578251   0.362170  -3.539635      0  \n",
       "4      2.782940  -1.623311   2.992206  -6.717889      0  \n",
       "...         ...        ...        ...        ...    ...  \n",
       "9995   0.105673  -0.221480   3.400589  -8.257107      0  \n",
       "9996   0.897944  -3.399414  -0.924083  -6.527160      0  \n",
       "9997  -2.435192   4.493852   2.417857   2.353397      0  \n",
       "9998   0.338637  -1.883345   0.621974   0.608565      0  \n",
       "9999   2.764131   0.080720   3.802087  -3.522564      0  \n",
       "\n",
       "[10000 rows x 11 columns]"
      ]
     },
     "execution_count": 4,
     "metadata": {},
     "output_type": "execute_result"
    }
   ],
   "source": [
    "data"
   ]
  },
  {
   "cell_type": "code",
   "execution_count": 5,
   "metadata": {},
   "outputs": [
    {
     "name": "stdout",
     "output_type": "stream",
     "text": [
      "Accuracy: 93.48%\n"
     ]
    }
   ],
   "source": [
    "# split data into train and test sets\n",
    "X = data.drop('label', axis=1)\n",
    "y = data['label']\n",
    "X_train, X_test, y_train, y_test = train_test_split(X, y, test_size=0.33, random_state=42)\n",
    "\n",
    "# fit model no training data\n",
    "model = xgb.XGBClassifier()\n",
    "model.fit(X_train, y_train)\n",
    "\n",
    "# make predictions for test data\n",
    "y_pred = model.predict(X_test)\n",
    "predictions = [round(value) for value in y_pred]\n",
    "\n",
    "# evaluate predictions\n",
    "accuracy = accuracy_score(y_test, predictions)\n",
    "print(\"Accuracy: %.2f%%\" % (accuracy * 100.0))"
   ]
  },
  {
   "cell_type": "code",
   "execution_count": 6,
   "metadata": {},
   "outputs": [],
   "source": [
    "\n",
    "\n",
    "# my_model = myxgb()\n",
    "# my_model.fit(X_train, y_train, boosting_rounds=20, depth=5, learning_rate=0.3)\n",
    "\n",
    "# # make predictions for test data\n",
    "# y_pred = my_model.predict(X_test)\n",
    "# predictions = [round(value) for value in y_pred]\n",
    "\n",
    "# # evaluate predictions\n",
    "# accuracy = accuracy_score(y_test, predictions)\n",
    "# print(\"Accuracy: %.2f%%\" % (accuracy * 100.0))\n"
   ]
  },
  {
   "cell_type": "code",
   "execution_count": 7,
   "metadata": {},
   "outputs": [],
   "source": [
    "# # accuracy on training data\n",
    "# y_pred = my_model.predict(X_train)\n",
    "# predictions = [round(value) for value in y_pred]\n",
    "# accuracy = accuracy_score(y_train, predictions)\n",
    "# print(\"Accuracy: %.2f%%\" % (accuracy * 100.0))"
   ]
  },
  {
   "cell_type": "code",
   "execution_count": 8,
   "metadata": {},
   "outputs": [
    {
     "name": "stdout",
     "output_type": "stream",
     "text": [
      "getting regions\n",
      "Training Complete\n",
      "Accuracy: 82.85%\n"
     ]
    }
   ],
   "source": [
    "my_model = myxgb(method='hist')\n",
    "# my_model.max_bins = 1000\n",
    "my_model.fit(X_train, y_train, boosting_rounds=20, depth=5, learning_rate=0.3)\n",
    "\n",
    "# make predictions for test data\n",
    "y_pred = my_model.predict(X_test)\n",
    "predictions = [round(value) for value in y_pred]\n",
    "\n",
    "# evaluate predictions\n",
    "accuracy = accuracy_score(y_test, predictions)\n",
    "print(\"Accuracy: %.2f%%\" % (accuracy * 100.0))"
   ]
  },
  {
   "cell_type": "code",
   "execution_count": 9,
   "metadata": {},
   "outputs": [
    {
     "name": "stdout",
     "output_type": "stream",
     "text": [
      "Accuracy: 85.52%\n"
     ]
    }
   ],
   "source": [
    "# accuracy on training data\n",
    "y_pred = my_model.predict(X_train)\n",
    "predictions = [round(value) for value in y_pred]\n",
    "accuracy = accuracy_score(y_train, predictions)\n",
    "print(\"Accuracy: %.2f%%\" % (accuracy * 100.0))"
   ]
  },
  {
   "cell_type": "code",
   "execution_count": 10,
   "metadata": {},
   "outputs": [
    {
     "name": "stdout",
     "output_type": "stream",
     "text": [
      "Initializing Clients\n",
      "getting regions\n",
      "getting regions\n",
      "getting regions\n",
      "Boosting round 1 done.\n",
      "Boosting round 2 done.\n",
      "Boosting round 3 done.\n",
      "Boosting round 4 done.\n",
      "Boosting round 5 done.\n",
      "Boosting round 6 done.\n",
      "Boosting round 7 done.\n",
      "Boosting round 8 done.\n",
      "Boosting round 9 done.\n",
      "Boosting round 10 done.\n",
      "Boosting round 11 done.\n",
      "Boosting round 12 done.\n",
      "Boosting round 13 done.\n",
      "Boosting round 14 done.\n",
      "Boosting round 15 done.\n",
      "Boosting round 16 done.\n",
      "Boosting round 17 done.\n",
      "Boosting round 18 done.\n",
      "Boosting round 19 done.\n",
      "Boosting round 20 done.\n",
      "Boosting round 21 done.\n",
      "Boosting round 22 done.\n",
      "Boosting round 23 done.\n",
      "Boosting round 24 done.\n",
      "Boosting round 25 done.\n",
      "Training Complete\n"
     ]
    }
   ],
   "source": [
    "max_bins = 1024 # each client must have the same bin size\n",
    "\n",
    "\n",
    "# create 3 clients\n",
    "client1 = Client(X_train[:3000], y_train[:3000], max_bins=max_bins, cliend_id=1)\n",
    "client2 = Client(X_train[3000:6000], y_train[3000:6000], max_bins=max_bins, cliend_id=2)\n",
    "client3 = Client(X_train[6000:], y_train[6000:], max_bins=max_bins, cliend_id=3)\n",
    "\n",
    "# create a federated model with the 3 clients\n",
    "fed_model = FedXGBoost([client1, client2, client3], max_bins=max_bins)\n",
    "\n",
    "# fit the model\n",
    "fed_model.fit(subsample_cols=0.6, boosting_rounds=25, depth=7, learning_rate=0.3)\n"
   ]
  },
  {
   "cell_type": "code",
   "execution_count": 14,
   "metadata": {},
   "outputs": [
    {
     "name": "stdout",
     "output_type": "stream",
     "text": [
      "Accuracy: 0.8357575757575758\n",
      "Precision: 0.8810178817056397\n",
      "Recall: 0.7763636363636364\n",
      "F1 Score: 0.8253865979381443\n"
     ]
    }
   ],
   "source": [
    "# make predictions\n",
    "preds = fed_model.predict(X_test)\n",
    "print(f\"Accuracy: {accuracy_score(y_test, preds)}\")\n",
    "print(f\"Precision: {precision_score(y_test, preds)}\")\n",
    "print(f\"Recall: {recall_score(y_test, preds)}\")\n",
    "print(f\"F1 Score: {f1_score(y_test, preds)}\")"
   ]
  },
  {
   "cell_type": "code",
   "execution_count": 15,
   "metadata": {},
   "outputs": [
    {
     "name": "stdout",
     "output_type": "stream",
     "text": [
      "Accuracy: 86.61%\n"
     ]
    }
   ],
   "source": [
    "# accuracy on training data\n",
    "y_pred = fed_model.predict(X_train)\n",
    "predictions = [round(value) for value in y_pred]\n",
    "accuracy = accuracy_score(y_train, predictions)\n",
    "print(\"Accuracy: %.2f%%\" % (accuracy * 100.0))"
   ]
  },
  {
   "cell_type": "code",
   "execution_count": 26,
   "metadata": {},
   "outputs": [
    {
     "name": "stdout",
     "output_type": "stream",
     "text": [
      "Accuracy: 0.9348484848484848\n",
      "Precision: 0.9263220439691028\n",
      "Recall: 0.9448484848484848\n",
      "F1 Score: 0.9354935493549354\n"
     ]
    }
   ],
   "source": [
    "# test xgboost classifier from pytho\n",
    "model = xgb.XGBClassifier()\n",
    "\n",
    "model.fit(X_train, y_train)\n",
    "preds = model.predict(X_test)\n",
    "print(f\"Accuracy: {accuracy_score(y_test, preds)}\")\n",
    "print(f\"Precision: {precision_score(y_test, preds)}\")\n",
    "print(f\"Recall: {recall_score(y_test, preds)}\")\n",
    "print(f\"F1 Score: {f1_score(y_test, preds)}\")\n"
   ]
  },
  {
   "cell_type": "code",
   "execution_count": null,
   "metadata": {},
   "outputs": [],
   "source": []
  }
 ],
 "metadata": {
  "kernelspec": {
   "display_name": "Python 3",
   "language": "python",
   "name": "python3"
  },
  "language_info": {
   "codemirror_mode": {
    "name": "ipython",
    "version": 3
   },
   "file_extension": ".py",
   "mimetype": "text/x-python",
   "name": "python",
   "nbconvert_exporter": "python",
   "pygments_lexer": "ipython3",
   "version": "3.11.9"
  }
 },
 "nbformat": 4,
 "nbformat_minor": 2
}
