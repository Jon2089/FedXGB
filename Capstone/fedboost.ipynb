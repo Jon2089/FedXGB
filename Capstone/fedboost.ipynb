{
 "cells": [
  {
   "cell_type": "code",
   "execution_count": 1,
   "metadata": {},
   "outputs": [],
   "source": [
    "import numpy as np\n",
    "import pandas as pd\n",
    "from sklearn.datasets import make_classification\n",
    "import xgboost as xgb\n",
    "from sklearn.model_selection import train_test_split\n",
    "from sklearn.metrics import accuracy_score, f1_score, precision_score, recall_score, roc_auc_score\n",
    "import matplotlib.pyplot as plt\n",
    "from customxgboost import XGBoostClassifier, XGBoostTree\n",
    "from fedXGB import Client, FedXGBoost\n"
   ]
  },
  {
   "cell_type": "code",
   "execution_count": 2,
   "metadata": {},
   "outputs": [],
   "source": [
    "# Generate dummy data\n",
    "def create_dummy_data(n_samples = 100, n_features = 3, n_informative = 3, n_redundant = 0, random_state = 42):\n",
    "\n",
    "    # Create the dataset\n",
    "    X, y = make_classification(\n",
    "        n_samples=n_samples,\n",
    "        n_features=n_features,\n",
    "        n_informative=n_informative,\n",
    "        n_redundant=n_redundant,\n",
    "        n_classes=2,\n",
    "        random_state=random_state\n",
    "    )\n",
    "\n",
    "    # Convert to DataFrame for convenience\n",
    "    df = pd.DataFrame(X, columns=[f\"feature_{i}\" for i in range(n_features)])\n",
    "    df['label'] = y\n",
    "\n",
    "    return df"
   ]
  },
  {
   "cell_type": "code",
   "execution_count": 3,
   "metadata": {},
   "outputs": [],
   "source": [
    "data = create_dummy_data()"
   ]
  },
  {
   "cell_type": "code",
   "execution_count": 4,
   "metadata": {},
   "outputs": [
    {
     "data": {
      "text/html": [
       "<div>\n",
       "<style scoped>\n",
       "    .dataframe tbody tr th:only-of-type {\n",
       "        vertical-align: middle;\n",
       "    }\n",
       "\n",
       "    .dataframe tbody tr th {\n",
       "        vertical-align: top;\n",
       "    }\n",
       "\n",
       "    .dataframe thead th {\n",
       "        text-align: right;\n",
       "    }\n",
       "</style>\n",
       "<table border=\"1\" class=\"dataframe\">\n",
       "  <thead>\n",
       "    <tr style=\"text-align: right;\">\n",
       "      <th></th>\n",
       "      <th>feature_0</th>\n",
       "      <th>feature_1</th>\n",
       "      <th>feature_2</th>\n",
       "      <th>label</th>\n",
       "    </tr>\n",
       "  </thead>\n",
       "  <tbody>\n",
       "    <tr>\n",
       "      <th>0</th>\n",
       "      <td>-0.055047</td>\n",
       "      <td>-0.076900</td>\n",
       "      <td>1.014236</td>\n",
       "      <td>1</td>\n",
       "    </tr>\n",
       "    <tr>\n",
       "      <th>1</th>\n",
       "      <td>-1.539644</td>\n",
       "      <td>-1.135646</td>\n",
       "      <td>0.951151</td>\n",
       "      <td>0</td>\n",
       "    </tr>\n",
       "    <tr>\n",
       "      <th>2</th>\n",
       "      <td>-0.801402</td>\n",
       "      <td>0.114717</td>\n",
       "      <td>-0.534702</td>\n",
       "      <td>0</td>\n",
       "    </tr>\n",
       "    <tr>\n",
       "      <th>3</th>\n",
       "      <td>2.203781</td>\n",
       "      <td>-2.440252</td>\n",
       "      <td>2.165799</td>\n",
       "      <td>1</td>\n",
       "    </tr>\n",
       "    <tr>\n",
       "      <th>4</th>\n",
       "      <td>-0.766340</td>\n",
       "      <td>0.198916</td>\n",
       "      <td>-1.456762</td>\n",
       "      <td>0</td>\n",
       "    </tr>\n",
       "    <tr>\n",
       "      <th>...</th>\n",
       "      <td>...</td>\n",
       "      <td>...</td>\n",
       "      <td>...</td>\n",
       "      <td>...</td>\n",
       "    </tr>\n",
       "    <tr>\n",
       "      <th>95</th>\n",
       "      <td>2.510895</td>\n",
       "      <td>-1.187769</td>\n",
       "      <td>-1.737078</td>\n",
       "      <td>0</td>\n",
       "    </tr>\n",
       "    <tr>\n",
       "      <th>96</th>\n",
       "      <td>-0.916990</td>\n",
       "      <td>0.062745</td>\n",
       "      <td>1.309143</td>\n",
       "      <td>0</td>\n",
       "    </tr>\n",
       "    <tr>\n",
       "      <th>97</th>\n",
       "      <td>1.924313</td>\n",
       "      <td>-1.563592</td>\n",
       "      <td>0.495242</td>\n",
       "      <td>0</td>\n",
       "    </tr>\n",
       "    <tr>\n",
       "      <th>98</th>\n",
       "      <td>1.650580</td>\n",
       "      <td>-1.108798</td>\n",
       "      <td>-0.227124</td>\n",
       "      <td>0</td>\n",
       "    </tr>\n",
       "    <tr>\n",
       "      <th>99</th>\n",
       "      <td>0.813396</td>\n",
       "      <td>2.378734</td>\n",
       "      <td>1.097880</td>\n",
       "      <td>1</td>\n",
       "    </tr>\n",
       "  </tbody>\n",
       "</table>\n",
       "<p>100 rows × 4 columns</p>\n",
       "</div>"
      ],
      "text/plain": [
       "    feature_0  feature_1  feature_2  label\n",
       "0   -0.055047  -0.076900   1.014236      1\n",
       "1   -1.539644  -1.135646   0.951151      0\n",
       "2   -0.801402   0.114717  -0.534702      0\n",
       "3    2.203781  -2.440252   2.165799      1\n",
       "4   -0.766340   0.198916  -1.456762      0\n",
       "..        ...        ...        ...    ...\n",
       "95   2.510895  -1.187769  -1.737078      0\n",
       "96  -0.916990   0.062745   1.309143      0\n",
       "97   1.924313  -1.563592   0.495242      0\n",
       "98   1.650580  -1.108798  -0.227124      0\n",
       "99   0.813396   2.378734   1.097880      1\n",
       "\n",
       "[100 rows x 4 columns]"
      ]
     },
     "execution_count": 4,
     "metadata": {},
     "output_type": "execute_result"
    }
   ],
   "source": [
    "data"
   ]
  },
  {
   "cell_type": "code",
   "execution_count": 5,
   "metadata": {},
   "outputs": [
    {
     "name": "stdout",
     "output_type": "stream",
     "text": [
      "Accuracy: 81.82%\n"
     ]
    }
   ],
   "source": [
    "# split data into train and test sets\n",
    "X = data.drop('label', axis=1)\n",
    "y = data['label']\n",
    "X_train, X_test, y_train, y_test = train_test_split(X, y, test_size=0.33, random_state=42)\n",
    "\n",
    "# fit model no training data\n",
    "model = xgb.XGBClassifier()\n",
    "model.fit(X_train, y_train)\n",
    "\n",
    "# make predictions for test data\n",
    "y_pred = model.predict(X_test)\n",
    "predictions = [round(value) for value in y_pred]\n",
    "\n",
    "# evaluate predictions\n",
    "accuracy = accuracy_score(y_test, predictions)\n",
    "print(\"Accuracy: %.2f%%\" % (accuracy * 100.0))"
   ]
  },
  {
   "cell_type": "code",
   "execution_count": 6,
   "metadata": {},
   "outputs": [
    {
     "name": "stdout",
     "output_type": "stream",
     "text": [
      "Training Complete\n",
      "Accuracy: 90.91%\n"
     ]
    }
   ],
   "source": [
    "from customxgboost import XGBoostClassifier as myxgb\n",
    "\n",
    "my_model = myxgb()\n",
    "my_model.fit(X_train, y_train)\n",
    "\n",
    "# make predictions for test data\n",
    "y_pred = my_model.predict(X_test)\n",
    "predictions = [round(value) for value in y_pred]\n",
    "\n",
    "# evaluate predictions\n",
    "accuracy = accuracy_score(y_test, predictions)\n",
    "print(\"Accuracy: %.2f%%\" % (accuracy * 100.0))\n"
   ]
  },
  {
   "cell_type": "code",
   "execution_count": 7,
   "metadata": {},
   "outputs": [
    {
     "name": "stdout",
     "output_type": "stream",
     "text": [
      "Training Complete\n",
      "Accuracy: 66.67%\n"
     ]
    }
   ],
   "source": [
    "my_model = myxgb(method='hist')\n",
    "my_model.fit(X_train, y_train)\n",
    "\n",
    "# make predictions for test data\n",
    "y_pred = my_model.predict(X_test)\n",
    "predictions = [round(value) for value in y_pred]\n",
    "\n",
    "# evaluate predictions\n",
    "accuracy = accuracy_score(y_test, predictions)\n",
    "print(\"Accuracy: %.2f%%\" % (accuracy * 100.0))"
   ]
  },
  {
   "cell_type": "code",
   "execution_count": 13,
   "metadata": {},
   "outputs": [
    {
     "name": "stdout",
     "output_type": "stream",
     "text": [
      "Training Complete\n"
     ]
    }
   ],
   "source": [
    "# make data of 1000 rows and 5 features\n",
    "data = create_dummy_data(n_samples=1000, n_features=5)\n",
    "\n",
    "# seperate 20 percent of total data for testing\n",
    "X = data.drop('label', axis=1)\n",
    "y = data['label']\n",
    "X_train, X_test, y_train, y_test = train_test_split(X, y, test_size=0.2, random_state=42)\n",
    "\n",
    "# create 3 clients\n",
    "client1 = Client(X_train[:300], y_train[:300])\n",
    "client2 = Client(X_train[300:600], y_train[300:600])\n",
    "client3 = Client(X_train[600:], y_train[600:])\n",
    "\n",
    "# create a federated model with the 3 clients\n",
    "fed_model = FedXGBoost([client1, client2, client3])\n",
    "\n",
    "# fit the model\n",
    "fed_model.fit(subsample_cols=0.8)\n"
   ]
  },
  {
   "cell_type": "code",
   "execution_count": 14,
   "metadata": {},
   "outputs": [
    {
     "name": "stdout",
     "output_type": "stream",
     "text": [
      "Accuracy: 0.915\n",
      "Precision: 0.8956521739130435\n",
      "Recall: 0.9537037037037037\n",
      "F1 Score: 0.9237668161434978\n"
     ]
    }
   ],
   "source": [
    "# make predictions\n",
    "preds = fed_model.predict(X_test)\n",
    "print(f\"Accuracy: {accuracy_score(y_test, preds)}\")\n",
    "print(f\"Precision: {precision_score(y_test, preds)}\")\n",
    "print(f\"Recall: {recall_score(y_test, preds)}\")\n",
    "print(f\"F1 Score: {f1_score(y_test, preds)}\")"
   ]
  },
  {
   "cell_type": "code",
   "execution_count": 10,
   "metadata": {},
   "outputs": [
    {
     "name": "stdout",
     "output_type": "stream",
     "text": [
      "Accuracy: 0.97\n",
      "Precision: 0.9903846153846154\n",
      "Recall: 0.9537037037037037\n",
      "F1 Score: 0.9716981132075472\n"
     ]
    }
   ],
   "source": [
    "# test xgboost classifier from pytho\n",
    "model = xgb.XGBClassifier()\n",
    "\n",
    "model.fit(X_train, y_train)\n",
    "preds = model.predict(X_test)\n",
    "print(f\"Accuracy: {accuracy_score(y_test, preds)}\")\n",
    "print(f\"Precision: {precision_score(y_test, preds)}\")\n",
    "print(f\"Recall: {recall_score(y_test, preds)}\")\n",
    "print(f\"F1 Score: {f1_score(y_test, preds)}\")\n"
   ]
  },
  {
   "cell_type": "code",
   "execution_count": null,
   "metadata": {},
   "outputs": [],
   "source": []
  }
 ],
 "metadata": {
  "kernelspec": {
   "display_name": "Python 3",
   "language": "python",
   "name": "python3"
  },
  "language_info": {
   "codemirror_mode": {
    "name": "ipython",
    "version": 3
   },
   "file_extension": ".py",
   "mimetype": "text/x-python",
   "name": "python",
   "nbconvert_exporter": "python",
   "pygments_lexer": "ipython3",
   "version": "3.11.9"
  }
 },
 "nbformat": 4,
 "nbformat_minor": 2
}
