{
 "cells": [
  {
   "cell_type": "code",
   "execution_count": 1,
   "metadata": {},
   "outputs": [],
   "source": [
    "import numpy as np\n",
    "import pandas as pd\n",
    "from sklearn.datasets import make_classification\n",
    "import xgboost as xgb\n",
    "from sklearn.model_selection import train_test_split\n",
    "from sklearn.metrics import accuracy_score, f1_score, precision_score, recall_score, roc_auc_score\n",
    "import matplotlib.pyplot as plt\n",
    "from customxgboost import XGBoostClassifier, XGBoostTree\n",
    "from fedXGB import Client, FedXGBoost\n",
    "from customxgboost import XGBoostClassifier as myxgb\n"
   ]
  },
  {
   "cell_type": "code",
   "execution_count": 25,
   "metadata": {},
   "outputs": [],
   "source": [
    "# Generate dummy data\n",
    "def create_dummy_data(n_samples = 10000, n_features = 50, n_informative = 22, n_redundant = 0, random_state = 42):\n",
    "\n",
    "    # Create the dataset\n",
    "    X, y = make_classification(\n",
    "        n_samples=n_samples,\n",
    "        n_features=n_features,\n",
    "        n_informative=n_informative,\n",
    "        n_redundant=n_redundant,\n",
    "        n_classes=2,\n",
    "        random_state=random_state\n",
    "    )\n",
    "\n",
    "    # Convert to DataFrame for convenience\n",
    "    df = pd.DataFrame(X, columns=[f\"feature_{i}\" for i in range(n_features)])\n",
    "    df['label'] = y\n",
    "\n",
    "    return df"
   ]
  },
  {
   "cell_type": "code",
   "execution_count": 26,
   "metadata": {},
   "outputs": [],
   "source": [
    "data = create_dummy_data()"
   ]
  },
  {
   "cell_type": "code",
   "execution_count": 27,
   "metadata": {},
   "outputs": [
    {
     "data": {
      "text/html": [
       "<div>\n",
       "<style scoped>\n",
       "    .dataframe tbody tr th:only-of-type {\n",
       "        vertical-align: middle;\n",
       "    }\n",
       "\n",
       "    .dataframe tbody tr th {\n",
       "        vertical-align: top;\n",
       "    }\n",
       "\n",
       "    .dataframe thead th {\n",
       "        text-align: right;\n",
       "    }\n",
       "</style>\n",
       "<table border=\"1\" class=\"dataframe\">\n",
       "  <thead>\n",
       "    <tr style=\"text-align: right;\">\n",
       "      <th></th>\n",
       "      <th>feature_0</th>\n",
       "      <th>feature_1</th>\n",
       "      <th>feature_2</th>\n",
       "      <th>feature_3</th>\n",
       "      <th>feature_4</th>\n",
       "      <th>feature_5</th>\n",
       "      <th>feature_6</th>\n",
       "      <th>feature_7</th>\n",
       "      <th>feature_8</th>\n",
       "      <th>feature_9</th>\n",
       "      <th>...</th>\n",
       "      <th>feature_41</th>\n",
       "      <th>feature_42</th>\n",
       "      <th>feature_43</th>\n",
       "      <th>feature_44</th>\n",
       "      <th>feature_45</th>\n",
       "      <th>feature_46</th>\n",
       "      <th>feature_47</th>\n",
       "      <th>feature_48</th>\n",
       "      <th>feature_49</th>\n",
       "      <th>label</th>\n",
       "    </tr>\n",
       "  </thead>\n",
       "  <tbody>\n",
       "    <tr>\n",
       "      <th>0</th>\n",
       "      <td>-0.965578</td>\n",
       "      <td>2.014337</td>\n",
       "      <td>1.304948</td>\n",
       "      <td>-0.263716</td>\n",
       "      <td>-1.316722</td>\n",
       "      <td>-2.858768</td>\n",
       "      <td>0.504930</td>\n",
       "      <td>-0.038123</td>\n",
       "      <td>-1.004650</td>\n",
       "      <td>0.050190</td>\n",
       "      <td>...</td>\n",
       "      <td>0.279948</td>\n",
       "      <td>-0.413537</td>\n",
       "      <td>2.993163</td>\n",
       "      <td>2.686999</td>\n",
       "      <td>-3.209502</td>\n",
       "      <td>-0.334316</td>\n",
       "      <td>-0.389815</td>\n",
       "      <td>1.391927</td>\n",
       "      <td>4.077872</td>\n",
       "      <td>0</td>\n",
       "    </tr>\n",
       "    <tr>\n",
       "      <th>1</th>\n",
       "      <td>-0.060676</td>\n",
       "      <td>2.841532</td>\n",
       "      <td>1.545377</td>\n",
       "      <td>-1.008556</td>\n",
       "      <td>-3.739762</td>\n",
       "      <td>-1.042760</td>\n",
       "      <td>0.251505</td>\n",
       "      <td>-0.530244</td>\n",
       "      <td>0.701185</td>\n",
       "      <td>0.365841</td>\n",
       "      <td>...</td>\n",
       "      <td>1.151709</td>\n",
       "      <td>-0.195181</td>\n",
       "      <td>-0.987324</td>\n",
       "      <td>-0.616296</td>\n",
       "      <td>-0.888070</td>\n",
       "      <td>-0.565869</td>\n",
       "      <td>1.000247</td>\n",
       "      <td>-2.906827</td>\n",
       "      <td>4.650249</td>\n",
       "      <td>0</td>\n",
       "    </tr>\n",
       "    <tr>\n",
       "      <th>2</th>\n",
       "      <td>-0.974993</td>\n",
       "      <td>0.311695</td>\n",
       "      <td>-0.345325</td>\n",
       "      <td>3.833465</td>\n",
       "      <td>-5.186574</td>\n",
       "      <td>-2.465071</td>\n",
       "      <td>0.358524</td>\n",
       "      <td>0.726672</td>\n",
       "      <td>-0.952411</td>\n",
       "      <td>-2.020802</td>\n",
       "      <td>...</td>\n",
       "      <td>-0.249303</td>\n",
       "      <td>-1.437342</td>\n",
       "      <td>-5.082394</td>\n",
       "      <td>2.903608</td>\n",
       "      <td>0.347030</td>\n",
       "      <td>0.705287</td>\n",
       "      <td>1.303845</td>\n",
       "      <td>-0.346168</td>\n",
       "      <td>-3.926308</td>\n",
       "      <td>1</td>\n",
       "    </tr>\n",
       "    <tr>\n",
       "      <th>3</th>\n",
       "      <td>1.311640</td>\n",
       "      <td>-0.364093</td>\n",
       "      <td>-0.712941</td>\n",
       "      <td>4.632278</td>\n",
       "      <td>5.487199</td>\n",
       "      <td>-2.189364</td>\n",
       "      <td>0.164921</td>\n",
       "      <td>1.306483</td>\n",
       "      <td>-0.106323</td>\n",
       "      <td>-2.106583</td>\n",
       "      <td>...</td>\n",
       "      <td>0.120902</td>\n",
       "      <td>1.283569</td>\n",
       "      <td>0.986424</td>\n",
       "      <td>-3.682525</td>\n",
       "      <td>1.558381</td>\n",
       "      <td>1.084343</td>\n",
       "      <td>-1.181520</td>\n",
       "      <td>4.989259</td>\n",
       "      <td>-3.556676</td>\n",
       "      <td>1</td>\n",
       "    </tr>\n",
       "    <tr>\n",
       "      <th>4</th>\n",
       "      <td>-1.064194</td>\n",
       "      <td>2.087427</td>\n",
       "      <td>-1.644542</td>\n",
       "      <td>-5.336649</td>\n",
       "      <td>0.541658</td>\n",
       "      <td>-2.581079</td>\n",
       "      <td>0.775316</td>\n",
       "      <td>0.404348</td>\n",
       "      <td>-0.892770</td>\n",
       "      <td>-0.271077</td>\n",
       "      <td>...</td>\n",
       "      <td>-0.433229</td>\n",
       "      <td>0.842034</td>\n",
       "      <td>-6.739371</td>\n",
       "      <td>5.395256</td>\n",
       "      <td>-0.350449</td>\n",
       "      <td>-2.504215</td>\n",
       "      <td>0.238973</td>\n",
       "      <td>1.488026</td>\n",
       "      <td>-1.133317</td>\n",
       "      <td>1</td>\n",
       "    </tr>\n",
       "    <tr>\n",
       "      <th>...</th>\n",
       "      <td>...</td>\n",
       "      <td>...</td>\n",
       "      <td>...</td>\n",
       "      <td>...</td>\n",
       "      <td>...</td>\n",
       "      <td>...</td>\n",
       "      <td>...</td>\n",
       "      <td>...</td>\n",
       "      <td>...</td>\n",
       "      <td>...</td>\n",
       "      <td>...</td>\n",
       "      <td>...</td>\n",
       "      <td>...</td>\n",
       "      <td>...</td>\n",
       "      <td>...</td>\n",
       "      <td>...</td>\n",
       "      <td>...</td>\n",
       "      <td>...</td>\n",
       "      <td>...</td>\n",
       "      <td>...</td>\n",
       "      <td>...</td>\n",
       "    </tr>\n",
       "    <tr>\n",
       "      <th>9995</th>\n",
       "      <td>1.284475</td>\n",
       "      <td>4.514648</td>\n",
       "      <td>-0.428078</td>\n",
       "      <td>0.985517</td>\n",
       "      <td>-0.287865</td>\n",
       "      <td>2.592347</td>\n",
       "      <td>1.297024</td>\n",
       "      <td>-0.883268</td>\n",
       "      <td>0.481412</td>\n",
       "      <td>1.407412</td>\n",
       "      <td>...</td>\n",
       "      <td>-0.349594</td>\n",
       "      <td>-0.664569</td>\n",
       "      <td>1.101720</td>\n",
       "      <td>2.489071</td>\n",
       "      <td>2.841612</td>\n",
       "      <td>-0.893655</td>\n",
       "      <td>-0.505860</td>\n",
       "      <td>3.063603</td>\n",
       "      <td>-1.742990</td>\n",
       "      <td>1</td>\n",
       "    </tr>\n",
       "    <tr>\n",
       "      <th>9996</th>\n",
       "      <td>1.240408</td>\n",
       "      <td>-3.092857</td>\n",
       "      <td>-0.567628</td>\n",
       "      <td>-5.552889</td>\n",
       "      <td>2.974017</td>\n",
       "      <td>-1.180545</td>\n",
       "      <td>1.151699</td>\n",
       "      <td>-0.752613</td>\n",
       "      <td>-0.540279</td>\n",
       "      <td>-0.106806</td>\n",
       "      <td>...</td>\n",
       "      <td>0.733743</td>\n",
       "      <td>1.032377</td>\n",
       "      <td>4.366228</td>\n",
       "      <td>-4.551377</td>\n",
       "      <td>2.703655</td>\n",
       "      <td>0.221014</td>\n",
       "      <td>-0.577173</td>\n",
       "      <td>-2.660996</td>\n",
       "      <td>1.177999</td>\n",
       "      <td>1</td>\n",
       "    </tr>\n",
       "    <tr>\n",
       "      <th>9997</th>\n",
       "      <td>1.037231</td>\n",
       "      <td>-4.379919</td>\n",
       "      <td>-0.415912</td>\n",
       "      <td>-1.039583</td>\n",
       "      <td>1.564774</td>\n",
       "      <td>1.677834</td>\n",
       "      <td>0.284484</td>\n",
       "      <td>0.651468</td>\n",
       "      <td>0.533572</td>\n",
       "      <td>1.085217</td>\n",
       "      <td>...</td>\n",
       "      <td>-0.088167</td>\n",
       "      <td>0.509011</td>\n",
       "      <td>1.125695</td>\n",
       "      <td>3.780190</td>\n",
       "      <td>-4.230781</td>\n",
       "      <td>0.495385</td>\n",
       "      <td>1.185857</td>\n",
       "      <td>-0.668642</td>\n",
       "      <td>2.295591</td>\n",
       "      <td>0</td>\n",
       "    </tr>\n",
       "    <tr>\n",
       "      <th>9998</th>\n",
       "      <td>-0.763016</td>\n",
       "      <td>3.490112</td>\n",
       "      <td>-0.718283</td>\n",
       "      <td>1.139012</td>\n",
       "      <td>0.947920</td>\n",
       "      <td>-0.302213</td>\n",
       "      <td>-0.450223</td>\n",
       "      <td>0.084048</td>\n",
       "      <td>0.178338</td>\n",
       "      <td>-1.275224</td>\n",
       "      <td>...</td>\n",
       "      <td>-0.818252</td>\n",
       "      <td>3.281800</td>\n",
       "      <td>-0.466511</td>\n",
       "      <td>-5.620057</td>\n",
       "      <td>0.392150</td>\n",
       "      <td>-1.182447</td>\n",
       "      <td>0.930227</td>\n",
       "      <td>-2.287695</td>\n",
       "      <td>0.490727</td>\n",
       "      <td>0</td>\n",
       "    </tr>\n",
       "    <tr>\n",
       "      <th>9999</th>\n",
       "      <td>-0.503282</td>\n",
       "      <td>1.848176</td>\n",
       "      <td>1.013636</td>\n",
       "      <td>-1.148974</td>\n",
       "      <td>4.121318</td>\n",
       "      <td>-0.882713</td>\n",
       "      <td>-0.032974</td>\n",
       "      <td>-0.350953</td>\n",
       "      <td>-0.567701</td>\n",
       "      <td>1.870809</td>\n",
       "      <td>...</td>\n",
       "      <td>1.386510</td>\n",
       "      <td>-1.539372</td>\n",
       "      <td>0.403125</td>\n",
       "      <td>-0.355590</td>\n",
       "      <td>-2.441582</td>\n",
       "      <td>-1.522195</td>\n",
       "      <td>-0.183102</td>\n",
       "      <td>-3.617021</td>\n",
       "      <td>0.916904</td>\n",
       "      <td>0</td>\n",
       "    </tr>\n",
       "  </tbody>\n",
       "</table>\n",
       "<p>10000 rows × 51 columns</p>\n",
       "</div>"
      ],
      "text/plain": [
       "      feature_0  feature_1  feature_2  feature_3  feature_4  feature_5  \\\n",
       "0     -0.965578   2.014337   1.304948  -0.263716  -1.316722  -2.858768   \n",
       "1     -0.060676   2.841532   1.545377  -1.008556  -3.739762  -1.042760   \n",
       "2     -0.974993   0.311695  -0.345325   3.833465  -5.186574  -2.465071   \n",
       "3      1.311640  -0.364093  -0.712941   4.632278   5.487199  -2.189364   \n",
       "4     -1.064194   2.087427  -1.644542  -5.336649   0.541658  -2.581079   \n",
       "...         ...        ...        ...        ...        ...        ...   \n",
       "9995   1.284475   4.514648  -0.428078   0.985517  -0.287865   2.592347   \n",
       "9996   1.240408  -3.092857  -0.567628  -5.552889   2.974017  -1.180545   \n",
       "9997   1.037231  -4.379919  -0.415912  -1.039583   1.564774   1.677834   \n",
       "9998  -0.763016   3.490112  -0.718283   1.139012   0.947920  -0.302213   \n",
       "9999  -0.503282   1.848176   1.013636  -1.148974   4.121318  -0.882713   \n",
       "\n",
       "      feature_6  feature_7  feature_8  feature_9  ...  feature_41  feature_42  \\\n",
       "0      0.504930  -0.038123  -1.004650   0.050190  ...    0.279948   -0.413537   \n",
       "1      0.251505  -0.530244   0.701185   0.365841  ...    1.151709   -0.195181   \n",
       "2      0.358524   0.726672  -0.952411  -2.020802  ...   -0.249303   -1.437342   \n",
       "3      0.164921   1.306483  -0.106323  -2.106583  ...    0.120902    1.283569   \n",
       "4      0.775316   0.404348  -0.892770  -0.271077  ...   -0.433229    0.842034   \n",
       "...         ...        ...        ...        ...  ...         ...         ...   \n",
       "9995   1.297024  -0.883268   0.481412   1.407412  ...   -0.349594   -0.664569   \n",
       "9996   1.151699  -0.752613  -0.540279  -0.106806  ...    0.733743    1.032377   \n",
       "9997   0.284484   0.651468   0.533572   1.085217  ...   -0.088167    0.509011   \n",
       "9998  -0.450223   0.084048   0.178338  -1.275224  ...   -0.818252    3.281800   \n",
       "9999  -0.032974  -0.350953  -0.567701   1.870809  ...    1.386510   -1.539372   \n",
       "\n",
       "      feature_43  feature_44  feature_45  feature_46  feature_47  feature_48  \\\n",
       "0       2.993163    2.686999   -3.209502   -0.334316   -0.389815    1.391927   \n",
       "1      -0.987324   -0.616296   -0.888070   -0.565869    1.000247   -2.906827   \n",
       "2      -5.082394    2.903608    0.347030    0.705287    1.303845   -0.346168   \n",
       "3       0.986424   -3.682525    1.558381    1.084343   -1.181520    4.989259   \n",
       "4      -6.739371    5.395256   -0.350449   -2.504215    0.238973    1.488026   \n",
       "...          ...         ...         ...         ...         ...         ...   \n",
       "9995    1.101720    2.489071    2.841612   -0.893655   -0.505860    3.063603   \n",
       "9996    4.366228   -4.551377    2.703655    0.221014   -0.577173   -2.660996   \n",
       "9997    1.125695    3.780190   -4.230781    0.495385    1.185857   -0.668642   \n",
       "9998   -0.466511   -5.620057    0.392150   -1.182447    0.930227   -2.287695   \n",
       "9999    0.403125   -0.355590   -2.441582   -1.522195   -0.183102   -3.617021   \n",
       "\n",
       "      feature_49  label  \n",
       "0       4.077872      0  \n",
       "1       4.650249      0  \n",
       "2      -3.926308      1  \n",
       "3      -3.556676      1  \n",
       "4      -1.133317      1  \n",
       "...          ...    ...  \n",
       "9995   -1.742990      1  \n",
       "9996    1.177999      1  \n",
       "9997    2.295591      0  \n",
       "9998    0.490727      0  \n",
       "9999    0.916904      0  \n",
       "\n",
       "[10000 rows x 51 columns]"
      ]
     },
     "execution_count": 27,
     "metadata": {},
     "output_type": "execute_result"
    }
   ],
   "source": [
    "data"
   ]
  },
  {
   "cell_type": "code",
   "execution_count": 28,
   "metadata": {},
   "outputs": [
    {
     "name": "stdout",
     "output_type": "stream",
     "text": [
      "Accuracy: 93.88%\n"
     ]
    }
   ],
   "source": [
    "# split data into train and test sets\n",
    "X = data.drop('label', axis=1)\n",
    "y = data['label']\n",
    "X_train, X_test, y_train, y_test = train_test_split(X, y, test_size=0.33, random_state=42)\n",
    "\n",
    "# fit model no training data\n",
    "model = xgb.XGBClassifier(n_estimators=50, max_depth=10, learning_rate=0.3)\n",
    "model.fit(X_train, y_train)\n",
    "\n",
    "# make predictions for test data\n",
    "y_pred = model.predict(X_test)\n",
    "predictions = [round(value) for value in y_pred]\n",
    "\n",
    "# evaluate predictions\n",
    "accuracy = accuracy_score(y_test, predictions)\n",
    "print(\"Accuracy: %.2f%%\" % (accuracy * 100.0))"
   ]
  },
  {
   "cell_type": "code",
   "execution_count": 29,
   "metadata": {},
   "outputs": [
    {
     "data": {
      "text/plain": [
       "<Axes: title={'center': 'Feature importance'}, xlabel='F score', ylabel='Features'>"
      ]
     },
     "execution_count": 29,
     "metadata": {},
     "output_type": "execute_result"
    },
    {
     "data": {
      "image/png": "[encoded data removed]",
      "text/plain": [
       "<Figure size 640x480 with 1 Axes>"
      ]
     },
     "metadata": {},
     "output_type": "display_data"
    }
   ],
   "source": [
    "# plot feature importance\n",
    "xgb.plot_importance(model)"
   ]
  },
  {
   "cell_type": "code",
   "execution_count": 30,
   "metadata": {},
   "outputs": [],
   "source": [
    "\n",
    "\n",
    "# my_model = myxgb()\n",
    "# my_model.fit(X_train, y_train, boosting_rounds=3, depth=10, learning_rate=0.3, subsample_cols=1, gamma=1, lambda_=1, min_child_weight=1)\n",
    "\n",
    "# # make predictions for test data\n",
    "# y_pred = my_model.predict(X_test)\n",
    "# predictions = [round(value) for value in y_pred]\n",
    "\n",
    "# # evaluate predictions\n",
    "# accuracy = accuracy_score(y_test, predictions)\n",
    "# print(\"Accuracy: %.2f%%\" % (accuracy * 100.0))\n"
   ]
  },
  {
   "cell_type": "code",
   "execution_count": 31,
   "metadata": {},
   "outputs": [],
   "source": [
    "# # accuracy on training data\n",
    "# y_pred = my_model.predict(X_train)\n",
    "# predictions = [round(value) for value in y_pred]\n",
    "# accuracy = accuracy_score(y_train, predictions)\n",
    "# print(\"Accuracy: %.2f%%\" % (accuracy * 100.0))"
   ]
  },
  {
   "cell_type": "code",
   "execution_count": null,
   "metadata": {},
   "outputs": [
    {
     "name": "stdout",
     "output_type": "stream",
     "text": [
      "Getting regions\n",
      "Booster 1 complete\n",
      "Getting regions\n",
      "Booster 2 complete\n",
      "Getting regions\n",
      "Booster 3 complete\n",
      "Getting regions\n",
      "Booster 4 complete\n",
      "Getting regions\n",
      "Booster 5 complete\n",
      "Getting regions\n",
      "Booster 6 complete\n",
      "Getting regions\n",
      "Booster 7 complete\n",
      "Getting regions\n",
      "Booster 8 complete\n",
      "Getting regions\n",
      "Booster 9 complete\n",
      "Getting regions\n",
      "Booster 10 complete\n",
      "Getting regions\n",
      "Booster 11 complete\n",
      "Getting regions\n",
      "Booster 12 complete\n",
      "Getting regions\n",
      "Booster 13 complete\n",
      "Getting regions\n",
      "Booster 14 complete\n",
      "Getting regions\n",
      "Booster 15 complete\n",
      "Getting regions\n",
      "Booster 16 complete\n",
      "Getting regions\n",
      "Booster 17 complete\n",
      "Getting regions\n",
      "Booster 18 complete\n",
      "Getting regions\n",
      "Booster 19 complete\n",
      "Getting regions\n",
      "Booster 20 complete\n",
      "Training Complete\n",
      "Accuracy: 87.48%\n"
     ]
    }
   ],
   "source": [
    "my_model = myxgb(method='hist')\n",
    "my_model.fit(X_train, y_train, boosting_rounds=20, depth=10, avg_splits=2, learning_rate=0.3, gamma=1, lambda_=1, min_child_weight=1)\n",
    "\n",
    "# make predictions for test data\n",
    "y_pred = my_model.predict(X_test)\n",
    "predictions = [round(value) for value in y_pred]\n",
    "\n",
    "# evaluate predictions\n",
    "accuracy = accuracy_score(y_test, predictions)\n",
    "print(\"Accuracy: %.2f%%\" % (accuracy * 100.0))"
   ]
  },
  {
   "cell_type": "code",
   "execution_count": 34,
   "metadata": {},
   "outputs": [
    {
     "name": "stdout",
     "output_type": "stream",
     "text": [
      "Accuracy: 94.52%\n"
     ]
    }
   ],
   "source": [
    "# accuracy on training data\n",
    "y_pred = my_model.predict(X_train)\n",
    "predictions = [round(value) for value in y_pred]\n",
    "accuracy = accuracy_score(y_train, predictions)\n",
    "print(\"Accuracy: %.2f%%\" % (accuracy * 100.0))"
   ]
  },
  {
   "cell_type": "code",
   "execution_count": 13,
   "metadata": {},
   "outputs": [
    {
     "name": "stdout",
     "output_type": "stream",
     "text": [
      "Initializing Clients\n",
      "Optimized: Getting regions\n",
      "Optimized: Getting regions\n",
      "Optimized: Getting regions\n"
     ]
    }
   ],
   "source": [
    "# max_bins = 100000 # each client must have the same bin size\n",
    "\n",
    "max_bins = 10240\n",
    "# create 3 clients\n",
    "client1 = Client(X_train[:3000], y_train[:3000], max_bins=max_bins, cliend_id=1)\n",
    "client2 = Client(X_train[3000:6000], y_train[3000:6000], max_bins=max_bins, cliend_id=2)\n",
    "client3 = Client(X_train[6000:], y_train[6000:], max_bins=max_bins, cliend_id=3)\n",
    "\n",
    "# create a federated model with the 3 clients\n",
    "fed_model = FedXGBoost()\n",
    "\n",
    "fed_model.fit([client1, client2, client3], max_bins=max_bins)"
   ]
  },
  {
   "cell_type": "code",
   "execution_count": 14,
   "metadata": {},
   "outputs": [
    {
     "name": "stdout",
     "output_type": "stream",
     "text": [
      "Boosting round 1 done.\n",
      "Boosting round 2 done.\n",
      "Boosting round 3 done.\n",
      "Boosting round 4 done.\n",
      "Boosting round 5 done.\n",
      "Boosting round 6 done.\n",
      "Boosting round 7 done.\n",
      "Boosting round 8 done.\n",
      "Boosting round 9 done.\n",
      "Boosting round 10 done.\n",
      "Boosting round 11 done.\n",
      "Boosting round 12 done.\n",
      "Boosting round 13 done.\n",
      "Boosting round 14 done.\n",
      "Boosting round 15 done.\n",
      "Boosting round 16 done.\n",
      "Boosting round 17 done.\n",
      "Boosting round 18 done.\n",
      "Boosting round 19 done.\n",
      "Boosting round 20 done.\n",
      "Boosting round 21 done.\n",
      "Boosting round 22 done.\n",
      "Boosting round 23 done.\n",
      "Boosting round 24 done.\n",
      "Boosting round 25 done.\n",
      "Training Complete\n"
     ]
    }
   ],
   "source": [
    "# train the model\n",
    "fed_model.train(subsample_cols=0.8, boosting_rounds=25, depth=10, learning_rate=0.1)"
   ]
  },
  {
   "cell_type": "code",
   "execution_count": 15,
   "metadata": {},
   "outputs": [
    {
     "name": "stdout",
     "output_type": "stream",
     "text": [
      "Boosting round 1 done.\n",
      "Boosting round 2 done.\n",
      "Boosting round 3 done.\n",
      "Boosting round 4 done.\n",
      "Boosting round 5 done.\n",
      "Boosting round 6 done.\n",
      "Boosting round 7 done.\n",
      "Boosting round 8 done.\n",
      "Boosting round 9 done.\n",
      "Boosting round 10 done.\n",
      "Boosting round 11 done.\n",
      "Boosting round 12 done.\n",
      "Boosting round 13 done.\n",
      "Boosting round 14 done.\n",
      "Boosting round 15 done.\n",
      "Boosting round 16 done.\n",
      "Boosting round 17 done.\n",
      "Boosting round 18 done.\n",
      "Boosting round 19 done.\n",
      "Boosting round 20 done.\n",
      "Boosting round 21 done.\n",
      "Boosting round 22 done.\n",
      "Boosting round 23 done.\n",
      "Boosting round 24 done.\n",
      "Boosting round 25 done.\n",
      "Training Complete\n"
     ]
    }
   ],
   "source": [
    "\n",
    "fed_model.train(subsample_cols=0.8, boosting_rounds=25, depth=10, learning_rate=0.1, gamma=0, lambda_=1)"
   ]
  },
  {
   "cell_type": "code",
   "execution_count": 16,
   "metadata": {},
   "outputs": [
    {
     "name": "stdout",
     "output_type": "stream",
     "text": [
      "Boosting round 1 done.\n",
      "Boosting round 2 done.\n",
      "Boosting round 3 done.\n",
      "Boosting round 4 done.\n",
      "Boosting round 5 done.\n",
      "Boosting round 6 done.\n",
      "Boosting round 7 done.\n",
      "Boosting round 8 done.\n",
      "Boosting round 9 done.\n",
      "Boosting round 10 done.\n",
      "Boosting round 11 done.\n",
      "Boosting round 12 done.\n",
      "Boosting round 13 done.\n",
      "Boosting round 14 done.\n",
      "Boosting round 15 done.\n",
      "Boosting round 16 done.\n",
      "Boosting round 17 done.\n",
      "Boosting round 18 done.\n",
      "Boosting round 19 done.\n",
      "Boosting round 20 done.\n",
      "Boosting round 21 done.\n",
      "Boosting round 22 done.\n",
      "Boosting round 23 done.\n",
      "Boosting round 24 done.\n",
      "Boosting round 25 done.\n",
      "Training Complete\n"
     ]
    }
   ],
   "source": [
    "fed_model.train(subsample_cols=0.9, boosting_rounds=25, depth=15, learning_rate=0.1, gamma=0, lambda_=1)"
   ]
  },
  {
   "cell_type": "code",
   "execution_count": 17,
   "metadata": {},
   "outputs": [
    {
     "name": "stdout",
     "output_type": "stream",
     "text": [
      "Accuracy: 0.8393939393939394\n",
      "Precision: 0.8480744815911976\n",
      "Recall: 0.8213114754098361\n",
      "F1 Score: 0.8344784509681449\n"
     ]
    }
   ],
   "source": [
    "# predictions for 25 rounds\n",
    "preds = fed_model.predict(X_test)\n",
    "print(f\"Accuracy: {accuracy_score(y_test, preds)}\")\n",
    "print(f\"Precision: {precision_score(y_test, preds)}\")\n",
    "print(f\"Recall: {recall_score(y_test, preds)}\")\n",
    "print(f\"F1 Score: {f1_score(y_test, preds)}\")"
   ]
  },
  {
   "cell_type": "code",
   "execution_count": 18,
   "metadata": {},
   "outputs": [
    {
     "name": "stdout",
     "output_type": "stream",
     "text": [
      "Accuracy: 0.8393939393939394\n",
      "Precision: 0.8480744815911976\n",
      "Recall: 0.8213114754098361\n",
      "F1 Score: 0.8344784509681449\n"
     ]
    }
   ],
   "source": [
    "# predictions for next model\n",
    "preds = fed_model.predict(X_test)\n",
    "print(f\"Accuracy: {accuracy_score(y_test, preds)}\")\n",
    "print(f\"Precision: {precision_score(y_test, preds)}\")\n",
    "print(f\"Recall: {recall_score(y_test, preds)}\")\n",
    "print(f\"F1 Score: {f1_score(y_test, preds)}\")"
   ]
  },
  {
   "cell_type": "code",
   "execution_count": 19,
   "metadata": {},
   "outputs": [
    {
     "name": "stdout",
     "output_type": "stream",
     "text": [
      "Accuracy: 0.8393939393939394\n",
      "Precision: 0.8480744815911976\n",
      "Recall: 0.8213114754098361\n",
      "F1 Score: 0.8344784509681449\n"
     ]
    }
   ],
   "source": [
    "# predictions for 3rd model\n",
    "preds = fed_model.predict(X_test)\n",
    "print(f\"Accuracy: {accuracy_score(y_test, preds)}\")\n",
    "print(f\"Precision: {precision_score(y_test, preds)}\")\n",
    "print(f\"Recall: {recall_score(y_test, preds)}\")\n",
    "print(f\"F1 Score: {f1_score(y_test, preds)}\")"
   ]
  },
  {
   "cell_type": "code",
   "execution_count": 20,
   "metadata": {},
   "outputs": [
    {
     "name": "stdout",
     "output_type": "stream",
     "text": [
      "Accuracy: 88.96%\n"
     ]
    }
   ],
   "source": [
    "# accuracy on training data\n",
    "y_pred = fed_model.predict(X_train)\n",
    "predictions = [round(value) for value in y_pred]\n",
    "accuracy = accuracy_score(y_train, predictions)\n",
    "print(\"Accuracy: %.2f%%\" % (accuracy * 100.0))"
   ]
  },
  {
   "cell_type": "code",
   "execution_count": 21,
   "metadata": {},
   "outputs": [
    {
     "name": "stdout",
     "output_type": "stream",
     "text": [
      "Accuracy: 0.9418181818181818\n",
      "Precision: 0.9373983739837398\n",
      "Recall: 0.9450819672131148\n",
      "F1 Score: 0.9412244897959183\n"
     ]
    }
   ],
   "source": [
    "# test xgboost classifier from pytho\n",
    "model = xgb.XGBClassifier()\n",
    "\n",
    "model.fit(X_train, y_train)\n",
    "preds = model.predict(X_test)\n",
    "print(f\"Accuracy: {accuracy_score(y_test, preds)}\")\n",
    "print(f\"Precision: {precision_score(y_test, preds)}\")\n",
    "print(f\"Recall: {recall_score(y_test, preds)}\")\n",
    "print(f\"F1 Score: {f1_score(y_test, preds)}\")\n"
   ]
  },
  {
   "cell_type": "code",
   "execution_count": null,
   "metadata": {},
   "outputs": [],
   "source": []
  }
 ],
 "metadata": {
  "kernelspec": {
   "display_name": "Python 3",
   "language": "python",
   "name": "python3"
  },
  "language_info": {
   "codemirror_mode": {
    "name": "ipython",
    "version": 3
   },
   "file_extension": ".py",
   "mimetype": "text/x-python",
   "name": "python",
   "nbconvert_exporter": "python",
   "pygments_lexer": "ipython3",
   "version": "3.11.9"
  }
 },
 "nbformat": 4,
 "nbformat_minor": 2
}
