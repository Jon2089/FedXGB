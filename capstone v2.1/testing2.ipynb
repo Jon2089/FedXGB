{
 "cells": [
  {
   "cell_type": "code",
   "execution_count": 4,
   "metadata": {},
   "outputs": [],
   "source": [
    "import numpy as np"
   ]
  },
  {
   "cell_type": "code",
   "execution_count": 63,
   "metadata": {},
   "outputs": [],
   "source": [
    "fimp = [(6, np.float32(0.17037272)),\n",
    " (5, np.float32(0.1590208)),\n",
    " (7, np.float32(0.14158085)),\n",
    " (8, np.float32(0.10678079)),\n",
    " (4, np.float32(0.10320448)),\n",
    " (1, np.float32(0.09372504)),\n",
    " (3, np.float32(0.09318691)),\n",
    " (2, np.float32(0.08965151)),\n",
    " (0, np.float32(0.021792948)),\n",
    " (9, np.float32(0.020683898))]"
   ]
  },
  {
   "cell_type": "code",
   "execution_count": 64,
   "metadata": {},
   "outputs": [
    {
     "data": {
      "image/png": "[encoded data removed]",
      "text/plain": [
       "<Figure size 640x480 with 1 Axes>"
      ]
     },
     "metadata": {},
     "output_type": "display_data"
    }
   ],
   "source": [
    "# plot the feature importances\n",
    "import matplotlib.pyplot as plt\n",
    "plt.figure()\n",
    "plt.title(\"Feature importances\")\n",
    "plt.bar(range(len(fimp)), [f[1] for f in fimp], align=\"center\")\n",
    "plt.xticks(range(len(fimp)), [f[0] for f in fimp])\n",
    "plt.xlim([-1, len(fimp)])\n",
    "plt.show()\n"
   ]
  },
  {
   "cell_type": "code",
   "execution_count": 65,
   "metadata": {},
   "outputs": [],
   "source": [
    "fimp = dict(fimp)"
   ]
  },
  {
   "cell_type": "code",
   "execution_count": 66,
   "metadata": {},
   "outputs": [
    {
     "data": {
      "text/plain": [
       "{6: np.float32(0.17037272),\n",
       " 5: np.float32(0.1590208),\n",
       " 7: np.float32(0.14158085),\n",
       " 8: np.float32(0.10678079),\n",
       " 4: np.float32(0.10320448),\n",
       " 1: np.float32(0.09372504),\n",
       " 3: np.float32(0.09318691),\n",
       " 2: np.float32(0.08965151),\n",
       " 0: np.float32(0.021792948),\n",
       " 9: np.float32(0.020683898)}"
      ]
     },
     "execution_count": 66,
     "metadata": {},
     "output_type": "execute_result"
    }
   ],
   "source": [
    "fimp"
   ]
  },
  {
   "cell_type": "code",
   "execution_count": null,
   "metadata": {},
   "outputs": [],
   "source": []
  },
  {
   "cell_type": "code",
   "execution_count": 67,
   "metadata": {},
   "outputs": [],
   "source": [
    "def assign_splits(avg_splits, feature_importance):\n",
    "    '''\n",
    "    Assigns splits to each feature based on the average number of splits per feature and feature importance.\n",
    "    '''\n",
    "    features = len(feature_importance)\n",
    "    total_importance = sum(feature_importance.values())\n",
    "    total_splits = avg_splits * features\n",
    "    splits_per_feature = {feature: round(total_splits * feature_importance[feature]/total_importance) for feature in feature_importance}\n",
    "    return splits_per_feature"
   ]
  },
  {
   "cell_type": "code",
   "execution_count": 68,
   "metadata": {},
   "outputs": [
    {
     "data": {
      "text/plain": [
       "{6: 5, 5: 5, 7: 4, 8: 3, 4: 3, 1: 3, 3: 3, 2: 3, 0: 1, 9: 1}"
      ]
     },
     "execution_count": 68,
     "metadata": {},
     "output_type": "execute_result"
    }
   ],
   "source": [
    "assign_splits(3, fimp)"
   ]
  },
  {
   "cell_type": "code",
   "execution_count": 52,
   "metadata": {},
   "outputs": [],
   "source": [
    "def sample_n_features(n, feature_importance):\n",
    "    '''\n",
    "    Samples n features from the feature importance distribution.\n",
    "    '''\n",
    "    # Convert feature importance values to a numpy array and cast to float64\n",
    "    probabilities = np.array(list(feature_importance.values()), dtype=np.float64)\n",
    "\n",
    "    # Normalize probabilities to ensure they sum exactly to 1\n",
    "    probabilities /= probabilities.sum()\n",
    "\n",
    "    return np.random.choice(list(feature_importance.keys()), n, p=list(probabilities), replace=False)"
   ]
  },
  {
   "cell_type": "code",
   "execution_count": 69,
   "metadata": {},
   "outputs": [
    {
     "ename": "ValueError",
     "evalue": "Cannot take a larger sample than population when 'replace=False'",
     "output_type": "error",
     "traceback": [
      "\u001b[1;31m---------------------------------------------------------------------------\u001b[0m",
      "\u001b[1;31mValueError\u001b[0m                                Traceback (most recent call last)",
      "Cell \u001b[1;32mIn[69], line 1\u001b[0m\n\u001b[1;32m----> 1\u001b[0m \u001b[43msample_n_features\u001b[49m\u001b[43m(\u001b[49m\u001b[38;5;241;43m30\u001b[39;49m\u001b[43m,\u001b[49m\u001b[43m \u001b[49m\u001b[43mfimp\u001b[49m\u001b[43m)\u001b[49m\n",
      "Cell \u001b[1;32mIn[52], line 11\u001b[0m, in \u001b[0;36msample_n_features\u001b[1;34m(n, feature_importance)\u001b[0m\n\u001b[0;32m      8\u001b[0m \u001b[38;5;66;03m# Normalize probabilities to ensure they sum exactly to 1\u001b[39;00m\n\u001b[0;32m      9\u001b[0m probabilities \u001b[38;5;241m/\u001b[39m\u001b[38;5;241m=\u001b[39m probabilities\u001b[38;5;241m.\u001b[39msum()\n\u001b[1;32m---> 11\u001b[0m \u001b[38;5;28;01mreturn\u001b[39;00m \u001b[43mnp\u001b[49m\u001b[38;5;241;43m.\u001b[39;49m\u001b[43mrandom\u001b[49m\u001b[38;5;241;43m.\u001b[39;49m\u001b[43mchoice\u001b[49m\u001b[43m(\u001b[49m\u001b[38;5;28;43mlist\u001b[39;49m\u001b[43m(\u001b[49m\u001b[43mfeature_importance\u001b[49m\u001b[38;5;241;43m.\u001b[39;49m\u001b[43mkeys\u001b[49m\u001b[43m(\u001b[49m\u001b[43m)\u001b[49m\u001b[43m)\u001b[49m\u001b[43m,\u001b[49m\u001b[43m \u001b[49m\u001b[43mn\u001b[49m\u001b[43m,\u001b[49m\u001b[43m \u001b[49m\u001b[43mp\u001b[49m\u001b[38;5;241;43m=\u001b[39;49m\u001b[38;5;28;43mlist\u001b[39;49m\u001b[43m(\u001b[49m\u001b[43mprobabilities\u001b[49m\u001b[43m)\u001b[49m\u001b[43m,\u001b[49m\u001b[43m \u001b[49m\u001b[43mreplace\u001b[49m\u001b[38;5;241;43m=\u001b[39;49m\u001b[38;5;28;43;01mFalse\u001b[39;49;00m\u001b[43m)\u001b[49m\n",
      "File \u001b[1;32mnumpy\\\\random\\\\mtrand.pyx:1020\u001b[0m, in \u001b[0;36mnumpy.random.mtrand.RandomState.choice\u001b[1;34m()\u001b[0m\n",
      "\u001b[1;31mValueError\u001b[0m: Cannot take a larger sample than population when 'replace=False'"
     ]
    }
   ],
   "source": [
    "sample_n_features(30, fimp)"
   ]
  },
  {
   "cell_type": "code",
   "execution_count": 71,
   "metadata": {},
   "outputs": [
    {
     "data": {
      "text/plain": [
       "[1, 4, 5]"
      ]
     },
     "execution_count": 71,
     "metadata": {},
     "output_type": "execute_result"
    }
   ],
   "source": [
    "a = [1, 2, 3, 4, 5]\n",
    "b = [2, 3]\n",
    "\n",
    "# a-b\n",
    "list(set(a) - set(b))"
   ]
  },
  {
   "cell_type": "code",
   "execution_count": 72,
   "metadata": {},
   "outputs": [
    {
     "name": "stdout",
     "output_type": "stream",
     "text": [
      "Optimized: Getting regions (Pandas)\n",
      "Optimized: Getting regions (Numpy)\n",
      "Regions (Pandas): {((0, 0), (1, 0)): [0], ((0, 0), (1, 1)): [], ((0, 1), (1, 0)): [], ((0, 1), (1, 1)): [1], ((0, 2), (1, 0)): [], ((0, 2), (1, 1)): [2]}\n",
      "Regions (Numpy): {((0, 0), (1, 0)): [0], ((0, 0), (1, 1)): [], ((0, 1), (1, 0)): [], ((0, 1), (1, 1)): [1], ((0, 2), (1, 0)): [], ((0, 2), (1, 1)): [2]}\n",
      "Are outputs identical? True\n"
     ]
    }
   ],
   "source": [
    "import pandas as pd\n",
    "import numpy as np\n",
    "\n",
    "# Sample dataset\n",
    "data_df = pd.DataFrame({\n",
    "    0: [0.2, 0.4, 0.7],\n",
    "    1: [0.4, 0.6, 0.8]\n",
    "})\n",
    "data_np = data_df.to_numpy()\n",
    "\n",
    "# Define feature splits\n",
    "feature_splits = {\n",
    "    0: [0.3, 0.6],\n",
    "    1: [0.5]\n",
    "}\n",
    "\n",
    "# Original function using pandas\n",
    "def get_region_indices_pandas(self, df):\n",
    "    print('Optimized: Getting regions (Pandas)')\n",
    "    df = df.reset_index(drop=True)\n",
    "    \n",
    "    feature_splits = self.feature_splits\n",
    "    features = list(feature_splits.keys())\n",
    "    feature_masks = {}\n",
    "    for feature in features:\n",
    "        splits = feature_splits[feature]\n",
    "        masks = []\n",
    "        for i, split in enumerate(splits):\n",
    "            lower_mask = (df[feature] > splits[i - 1]) if i > 0 else np.ones(len(df), dtype=bool)\n",
    "            upper_mask = (df[feature] <= split)\n",
    "            masks.append(lower_mask & upper_mask)\n",
    "        masks.append(df[feature] > splits[-1])\n",
    "        feature_masks[feature] = masks\n",
    "\n",
    "    regions = {}\n",
    "    def combine_masks(feature_idx, current_mask, region_key):\n",
    "        if feature_idx == len(features):\n",
    "            regions[tuple(region_key)] = df[current_mask].index.tolist()\n",
    "            return\n",
    "        \n",
    "        feature = features[feature_idx]\n",
    "        for i, mask in enumerate(feature_masks[feature]):\n",
    "            new_mask = current_mask & mask\n",
    "            new_region_key = region_key + [(feature, i)]\n",
    "            combine_masks(feature_idx + 1, new_mask, new_region_key)\n",
    "    \n",
    "    combine_masks(0, np.ones(len(df), dtype=bool), [])\n",
    "    return regions\n",
    "\n",
    "# Updated function using numpy\n",
    "def get_region_indices_numpy(self, data):\n",
    "    print('Optimized: Getting regions (Numpy)')\n",
    "    feature_splits = self.feature_splits\n",
    "    features = list(feature_splits.keys())\n",
    "    feature_masks = {}\n",
    "    for feature in features:\n",
    "        splits = feature_splits[feature]\n",
    "        masks = []\n",
    "        for i, split in enumerate(splits):\n",
    "            lower_mask = (data[:, feature] > splits[i - 1]) if i > 0 else np.ones(data.shape[0], dtype=bool)\n",
    "            upper_mask = (data[:, feature] <= split)\n",
    "            masks.append(lower_mask & upper_mask)\n",
    "        masks.append(data[:, feature] > splits[-1])\n",
    "        feature_masks[feature] = masks\n",
    "\n",
    "    regions = {}\n",
    "    def combine_masks(feature_idx, current_mask, region_key):\n",
    "        if feature_idx == len(features):\n",
    "            regions[tuple(region_key)] = np.where(current_mask)[0].tolist()\n",
    "            return\n",
    "        \n",
    "        feature = features[feature_idx]\n",
    "        for i, mask in enumerate(feature_masks[feature]):\n",
    "            new_mask = current_mask & mask\n",
    "            new_region_key = region_key + [(feature, i)]\n",
    "            combine_masks(feature_idx + 1, new_mask, new_region_key)\n",
    "    \n",
    "    combine_masks(0, np.ones(data.shape[0], dtype=bool), [])\n",
    "    return regions\n",
    "\n",
    "# Assign feature_splits to a mock class for both functions\n",
    "class MockModel:\n",
    "    def __init__(self, feature_splits):\n",
    "        self.feature_splits = feature_splits\n",
    "\n",
    "model = MockModel(feature_splits)\n",
    "\n",
    "# Run both functions\n",
    "regions_pandas = get_region_indices_pandas(model, data_df)\n",
    "regions_numpy = get_region_indices_numpy(model, data_np)\n",
    "\n",
    "# Compare outputs\n",
    "print(\"Regions (Pandas):\", regions_pandas)\n",
    "print(\"Regions (Numpy):\", regions_numpy)\n",
    "print(\"Are outputs identical?\", regions_pandas == regions_numpy)\n"
   ]
  },
  {
   "cell_type": "code",
   "execution_count": 73,
   "metadata": {},
   "outputs": [
    {
     "data": {
      "text/plain": [
       "2"
      ]
     },
     "execution_count": 73,
     "metadata": {},
     "output_type": "execute_result"
    }
   ],
   "source": [
    "a = {1: [1, 2, 3], 2: [4, 5, 6]}\n",
    "len(a)"
   ]
  },
  {
   "cell_type": "code",
   "execution_count": 75,
   "metadata": {},
   "outputs": [
    {
     "data": {
      "text/plain": [
       "[4, 5, 6]"
      ]
     },
     "execution_count": 75,
     "metadata": {},
     "output_type": "execute_result"
    }
   ],
   "source": [
    "list(a.values())[1]"
   ]
  },
  {
   "cell_type": "code",
   "execution_count": 78,
   "metadata": {},
   "outputs": [
    {
     "data": {
      "text/plain": [
       "np.float64(4.0)"
      ]
     },
     "execution_count": 78,
     "metadata": {},
     "output_type": "execute_result"
    }
   ],
   "source": [
    "np.ceil(3.5)"
   ]
  },
  {
   "cell_type": "code",
   "execution_count": 83,
   "metadata": {},
   "outputs": [],
   "source": [
    "import numpy as np\n",
    "import pandas as pd\n",
    "from sklearn.datasets import make_classification\n",
    "import xgboost as xgb\n",
    "from sklearn.model_selection import train_test_split\n",
    "from sklearn.metrics import accuracy_score, f1_score, precision_score, recall_score, roc_auc_score\n",
    "import matplotlib.pyplot as plt\n"
   ]
  },
  {
   "cell_type": "code",
   "execution_count": 86,
   "metadata": {},
   "outputs": [],
   "source": [
    "# Generate dummy data\n",
    "def create_dummy_data(n_samples = 10000, n_features = 10, n_informative = 8, n_redundant = 0, random_state = 42):\n",
    "\n",
    "    # Create the dataset\n",
    "    X, y = make_classification(\n",
    "        n_samples=n_samples,\n",
    "        n_features=n_features,\n",
    "        n_informative=n_informative,\n",
    "        n_redundant=n_redundant,\n",
    "        n_classes=2,\n",
    "        random_state=random_state\n",
    "    )\n",
    "\n",
    "    # Convert to DataFrame for convenience\n",
    "    df = pd.DataFrame(X, columns=[f\"feature_{i}\" for i in range(n_features)])\n",
    "    df['label'] = y\n",
    "\n",
    "    return df"
   ]
  },
  {
   "cell_type": "code",
   "execution_count": 87,
   "metadata": {},
   "outputs": [],
   "source": [
    "data = create_dummy_data()"
   ]
  },
  {
   "cell_type": "code",
   "execution_count": 88,
   "metadata": {},
   "outputs": [
    {
     "name": "stdout",
     "output_type": "stream",
     "text": [
      "Accuracy: 92.36%\n"
     ]
    }
   ],
   "source": [
    "# split data into train and test sets\n",
    "X = data.drop('label', axis=1)\n",
    "y = data['label']\n",
    "X_train, X_test, y_train, y_test = train_test_split(X, y, test_size=0.33, random_state=42)\n",
    "\n",
    "# fit model no training data\n",
    "model = xgb.XGBClassifier(n_estimators=50, max_depth=10, learning_rate=0.3)\n",
    "model.fit(X_train, y_train)\n",
    "\n",
    "# make predictions for test data\n",
    "y_pred = model.predict(X_test)\n",
    "predictions = [round(value) for value in y_pred]\n",
    "\n",
    "# evaluate predictions\n",
    "accuracy = accuracy_score(y_test, predictions)\n",
    "print(\"Accuracy: %.2f%%\" % (accuracy * 100.0))"
   ]
  },
  {
   "cell_type": "code",
   "execution_count": 92,
   "metadata": {},
   "outputs": [
    {
     "data": {
      "text/plain": [
       "np.float32(0.99999994)"
      ]
     },
     "execution_count": 92,
     "metadata": {},
     "output_type": "execute_result"
    }
   ],
   "source": [
    "sum(model.feature_importances_)"
   ]
  },
  {
   "cell_type": "code",
   "execution_count": 91,
   "metadata": {},
   "outputs": [
    {
     "data": {
      "text/plain": [
       "<Axes: title={'center': 'Feature importance'}, xlabel='F score', ylabel='Features'>"
      ]
     },
     "execution_count": 91,
     "metadata": {},
     "output_type": "execute_result"
    },
    {
     "data": {
      "image/png": "[encoded data removed]",
      "text/plain": [
       "<Figure size 640x480 with 1 Axes>"
      ]
     },
     "metadata": {},
     "output_type": "display_data"
    }
   ],
   "source": [
    "xgb.plot_importance(model, importance_type='gain')"
   ]
  },
  {
   "cell_type": "code",
   "execution_count": 94,
   "metadata": {},
   "outputs": [
    {
     "data": {
      "text/plain": [
       "{1, 2, 3, 4, 5, 6, 7, 8}"
      ]
     },
     "execution_count": 94,
     "metadata": {},
     "output_type": "execute_result"
    }
   ],
   "source": [
    "# make a number of sets and get thier union\n",
    "a = set([1, 2, 3])\n",
    "b = set([3, 4, 5])\n",
    "c = set([5, 6, 7])\n",
    "d = set([7, 8])\n",
    "\n",
    "a.union(b, c, d)"
   ]
  },
  {
   "cell_type": "code",
   "execution_count": 104,
   "metadata": {},
   "outputs": [
    {
     "data": {
      "text/plain": [
       "{0.0, 1.0}"
      ]
     },
     "execution_count": 104,
     "metadata": {},
     "output_type": "execute_result"
    }
   ],
   "source": [
    "set(np.quantile([0, 0, 1, 0, 0, 1, 1], q=np.linspace(0, 1, 3)).tolist())"
   ]
  },
  {
   "cell_type": "code",
   "execution_count": 1,
   "metadata": {},
   "outputs": [],
   "source": [
    "a = set()"
   ]
  },
  {
   "cell_type": "code",
   "execution_count": 2,
   "metadata": {},
   "outputs": [
    {
     "data": {
      "text/plain": [
       "0"
      ]
     },
     "execution_count": 2,
     "metadata": {},
     "output_type": "execute_result"
    }
   ],
   "source": [
    "len(a)"
   ]
  },
  {
   "cell_type": "code",
   "execution_count": null,
   "metadata": {},
   "outputs": [],
   "source": []
  }
 ],
 "metadata": {
  "kernelspec": {
   "display_name": "Python 3",
   "language": "python",
   "name": "python3"
  },
  "language_info": {
   "codemirror_mode": {
    "name": "ipython",
    "version": 3
   },
   "file_extension": ".py",
   "mimetype": "text/x-python",
   "name": "python",
   "nbconvert_exporter": "python",
   "pygments_lexer": "ipython3",
   "version": "3.11.9"
  }
 },
 "nbformat": 4,
 "nbformat_minor": 2
}
